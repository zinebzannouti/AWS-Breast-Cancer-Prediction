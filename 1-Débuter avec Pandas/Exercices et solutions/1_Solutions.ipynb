{
  "nbformat": 4,
  "nbformat_minor": 0,
  "metadata": {
    "colab": {
      "provenance": [],
      "authorship_tag": "ABX9TyMmkQXwMyk8Tg3UhdPXugx5",
      "include_colab_link": true
    },
    "kernelspec": {
      "name": "python3",
      "display_name": "Python 3"
    },
    "language_info": {
      "name": "python"
    }
  },
  "cells": [
    {
      "cell_type": "markdown",
      "metadata": {
        "id": "view-in-github",
        "colab_type": "text"
      },
      "source": [
        "<a href=\"https://colab.research.google.com/github/zinebzannouti/AWS-Breast-Cancer-Prediction/blob/main/1-D%C3%A9buter%20avec%20Pandas/Exercices%20et%20solutions/1_Solutions.ipynb\" target=\"_parent\"><img src=\"https://colab.research.google.com/assets/colab-badge.svg\" alt=\"Open In Colab\"/></a>"
      ]
    },
    {
      "cell_type": "markdown",
      "source": [
        "**Exercice 1 :**    \n",
        "Créer un programme pandas Python qui traite les données du tableau suivant à l'aide d'un DataFrame et les affiches sous forme d'un tableau à l'écran:\n",
        "\n",
        "![image.png](data:image/png;base64,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)\n"
      ],
      "metadata": {
        "id": "gPQ9DA5VQpyP"
      }
    },
    {
      "cell_type": "code",
      "execution_count": null,
      "metadata": {
        "id": "hczTxtG5QTPn"
      },
      "outputs": [],
      "source": [
        "#solution"
      ]
    },
    {
      "cell_type": "markdown",
      "source": [
        "Double-click __here__ for the solution.\n",
        "\n",
        "<!-- Your answer is below:\n",
        "\n",
        "# importation de la bibliothèque pandas\n",
        "import pandas as ps\n",
        " \n",
        "# représentation des données sur un dictionnaire python\n",
        "dictData = {'ID' : [1, 2, 3, 4 , 5] , \n",
        "            'Name': ['Albert' , 'Nathalie' , 'Robert' , 'Jesika' , 'Adam'] , \n",
        "            'Email': ['albert@gmail.com' , 'nathalie@gmail.com' , 'robert@gmail.com' , 'jesika@gmail.com' , 'adam@gmail.com'] , \n",
        "            'Section' : ['SVT' , 'SC Eco' , 'Math' , 'Philo' , 'Physique'] }\n",
        " \n",
        "# créer un objet dataframe\n",
        "df = ps.DataFrame(dictData)\n",
        " \n",
        "# afficher les données\n",
        "print(df)\n",
        "\n",
        "-->"
      ],
      "metadata": {
        "id": "sksQJzIxRcSi"
      }
    },
    {
      "cell_type": "markdown",
      "source": [
        "**Exercice 2 :**    \n",
        "Créer un programme pandas python qui permet de convertir la série:"
      ],
      "metadata": {
        "id": "az373nbCRlfE"
      }
    },
    {
      "cell_type": "code",
      "source": [
        "serie = pandas.Serie(numpy.array (['P', 'a', 'n', 'd', 'a' , 's']))"
      ],
      "metadata": {
        "id": "XJUCW8CsSFTs"
      },
      "execution_count": null,
      "outputs": []
    },
    {
      "cell_type": "markdown",
      "source": [
        "en la chaine de caractères formée par les éléments de la série. Le programme doit renvoyer la chaine s = \"Pandas\"."
      ],
      "metadata": {
        "id": "BCWAWqktSHbC"
      }
    },
    {
      "cell_type": "code",
      "source": [
        "#solution"
      ],
      "metadata": {
        "id": "lEZkaUupSQmM"
      },
      "execution_count": null,
      "outputs": []
    },
    {
      "cell_type": "markdown",
      "source": [
        "Double-click __here__ for the solution.\n",
        "\n",
        "<!-- Your answer is below:\n",
        "\n",
        "# importation de pandas as pan\n",
        "import pandas as pan\n",
        " \n",
        "# importation de  numpy as np\n",
        "import numpy as np\n",
        " \n",
        "# tableau simple\n",
        "data = np.array (['P', 'y', 't', 'h', 'o' , 'n'])\n",
        " \n",
        "serie = pan.Series(data)\n",
        "myString = \"\"\n",
        "for i in range(0 , len(serie)):\n",
        "    myString += serie[i]\n",
        " \n",
        "# afficher la chaine   \n",
        "print(myString)\n",
        "\n",
        "-->"
      ],
      "metadata": {
        "id": "6DJk4-sCSUy2"
      }
    },
    {
      "cell_type": "markdown",
      "source": [
        "**Exercice 3 :**    \n",
        "Ecrire un programme pandas python qui permet de supprimer un élément de la série:"
      ],
      "metadata": {
        "id": "dKGvvdBeSbc_"
      }
    },
    {
      "cell_type": "code",
      "source": [
        "pandas.Series(['Python' , 'Djnago' , 'Tkinter' , 'PyQt' , 'numpy'])"
      ],
      "metadata": {
        "id": "4nUqpIsjSmuA"
      },
      "execution_count": null,
      "outputs": []
    },
    {
      "cell_type": "markdown",
      "source": [
        "Supprimer le dernier élément à titre d'exemple."
      ],
      "metadata": {
        "id": "G8VuSBQgSpJW"
      }
    },
    {
      "cell_type": "code",
      "source": [
        "#solution"
      ],
      "metadata": {
        "id": "poXfZQb1TcGg"
      },
      "execution_count": null,
      "outputs": []
    },
    {
      "cell_type": "markdown",
      "source": [
        "Double-click __here__ for the solution.\n",
        "\n",
        "<!-- Your answer is below:\n",
        "# importation de pandas as ps\n",
        "import pandas as ps\n",
        "\n",
        "# importation de  numpy as np\n",
        "import numpy as np\n",
        "\n",
        "# tableau simple\n",
        "data = np.array (['Python' , 'Djnago' , 'Tkinter' , 'PyQt' , 'numpy'])\n",
        "\n",
        "# créer la série pandas\n",
        "serie = ps.Series (data)\n",
        "\n",
        "# supprimer le dernier élément 'numpy' de la série\n",
        "newserie = serie.drop([4])\n",
        "\n",
        "# afficher la nouvelle série\n",
        "print(newserie)\n",
        "-->"
      ],
      "metadata": {
        "id": "bkbZF2WaS0Cc"
      }
    },
    {
      "cell_type": "markdown",
      "source": [
        "**Exercice 4 :**    \n",
        "Reprendre l'exercice précédent **(Exercice3)** en créant cette fois-ci un programme basé sur la bibliothèque pandas python qui supprime les éléments d'index pair de la série."
      ],
      "metadata": {
        "id": "0BhKVl2qS4Xv"
      }
    },
    {
      "cell_type": "code",
      "source": [
        "#soultion"
      ],
      "metadata": {
        "id": "EhAJ2YS5TZyH"
      },
      "execution_count": null,
      "outputs": []
    },
    {
      "cell_type": "markdown",
      "source": [
        "Double-click __here__ for the solution.\n",
        "\n",
        "<!-- Your answer is below: \n",
        "# importation de pandas as pan\n",
        "import pandas as ps\n",
        " \n",
        "# importation de  numpy as np\n",
        "import numpy as np\n",
        " \n",
        "# tableau simple\n",
        "data = np.array (['Python' , 'Djnago' , 'Tkinter' , 'PyQt' , 'numpy'])\n",
        " \n",
        "# créer la série pandas\n",
        "serie = ps.Series (data)\n",
        " \n",
        "# supprimer les éléments d'indice impairs\n",
        "for i in range(0 , len(serie)):\n",
        "    if i%2 == 0:\n",
        "        serie = serie.drop([i])\n",
        " \n",
        "# afficher la nouvelle série\n",
        "print(serie)\n",
        "-->"
      ],
      "metadata": {
        "id": "0gaYubwTTSHu"
      }
    },
    {
      "cell_type": "markdown",
      "source": [
        "**Exercice 5 :**    \n",
        "Modfifier le programme suivant afin de supprimer la colonne 'Section' et la remplacer par la colonne: Age = [ 22 , 23 , 21 , 20 , 25 ] sans toucher à laliste data. les modifiction doivent être apportées uniquement au DataFrame df:"
      ],
      "metadata": {
        "id": "wFNL_aSLT0N-"
      }
    },
    {
      "cell_type": "code",
      "source": [
        "import pandas as ps\n",
        " \n",
        "# liste des données\n",
        "data = [['Tomas' , 'tomas@gmail.com' , 'Math'], \n",
        "        ['Albert' ,'albert@gmail.com' , 'SVT' ],\n",
        "        ['Nathalie', 'nathalie@gmail.com' , 'Sc Eco'], \n",
        "        ['Roberto' ,'roberto@gmail.com' , 'Physique'],\n",
        "        ['Adam' , 'adam@gmail.com' , 'Info']]\n",
        "labels = [11 , 12, 13 , 14, 15]\n",
        " \n",
        "# création du DataFrame\n",
        "df = ps.DataFrame(data , index=labels , columns=[ 'Name' , 'Email' , 'Section'])"
      ],
      "metadata": {
        "id": "5x-Le8gUUD3l"
      },
      "execution_count": null,
      "outputs": []
    },
    {
      "cell_type": "code",
      "source": [
        "#solution"
      ],
      "metadata": {
        "id": "SzOIPql3UEyC"
      },
      "execution_count": null,
      "outputs": []
    },
    {
      "cell_type": "markdown",
      "source": [
        "Double-click __here__ for the solution.\n",
        "\n",
        "<!-- Your answer is below: \n",
        "import pandas as ps\n",
        "\n",
        "# liste des données\n",
        "data = [['Tomas' , 'tomas@gmail.com' , 'Math'], \n",
        "        ['Albert' ,'albert@gmail.com' , 'SVT' ],\n",
        "        ['Nathalie', 'nathalie@gmail.com' , 'Sc Eco'], \n",
        "        ['Roberto' ,'roberto@gmail.com' , 'Physique'],\n",
        "        ['Adam' , 'adam@gmail.com' , 'Info']]\n",
        "labels = [11 , 12, 13 , 14, 15]\n",
        "\n",
        "# création du DataFrame\n",
        "df = ps.DataFrame(data , index=labels , columns=[ 'Name' , 'Email' , 'Section'])\n",
        "\n",
        "# Afficher le DataFrame\n",
        "print(df)\n",
        "print('----------------------------------------')\n",
        "\n",
        "# supprimer la colonne 'Section'\n",
        "df.pop('Section')\n",
        "\n",
        "# Ajouter la colonne 'Age'\n",
        "df['Age'] = [ 22 , 23 , 21 , 20 , 25 ]\n",
        "\n",
        "# Afficher le DataFrame\n",
        "print(df)\n",
        "-->"
      ],
      "metadata": {
        "id": "P2TQ0WdkT_oj"
      }
    },
    {
      "cell_type": "markdown",
      "source": [
        "**Exercice 6 :**    \n",
        "A partir du programme suivant qui represente les données des étudiants dans un DataFrame:"
      ],
      "metadata": {
        "id": "UUjEdKC2fu-9"
      }
    },
    {
      "cell_type": "code",
      "source": [
        "import pandas as ps\n",
        " \n",
        "# liste des données\n",
        "data = [['Tomas' , 'tomas@gmail.com' , 'Math'], \n",
        "        ['Albert' ,'albert@gmail.com' , 'SVT' ],\n",
        "        ['Nathalie', 'nathalie@gmail.com' , 'Sc Eco'], \n",
        "        ['Roberto' ,'roberto@gmail.com' , 'Physique'],\n",
        "        ['Adam' , 'adam@gmail.com' , 'Info']]\n",
        "labels = [11 , 12, 13 , 14, 15]\n",
        " \n",
        "# création du DataFrame\n",
        "df = ps.DataFrame(data , index=labels , columns=[ 'Name' , 'Email' , 'Section'])\n",
        " \n"
      ],
      "metadata": {
        "id": "EJy5roV9f2JW"
      },
      "execution_count": null,
      "outputs": []
    },
    {
      "cell_type": "markdown",
      "source": [
        "Ecrire un programme qui récupère les emails des étudiants en une liste: list_emails =[ ... ] sans toucher à la liste data des données. Les manipulations doivent être apportées uniquement au niveau du DataFrame df."
      ],
      "metadata": {
        "id": "EriaXStKf5OA"
      }
    },
    {
      "cell_type": "code",
      "source": [
        "#solution"
      ],
      "metadata": {
        "id": "k0I_eCgMf-NR"
      },
      "execution_count": null,
      "outputs": []
    },
    {
      "cell_type": "markdown",
      "source": [
        "Double-click __here__ for the solution.\n",
        "\n",
        "<!-- Your answer is below: \n",
        "import pandas as ps\n",
        "\n",
        "# liste des données\n",
        "import pandas as ps\n",
        " \n",
        "# liste des données\n",
        "data = [['Tomas' , 'tomas@gmail.com' , 'Math'], \n",
        "        ['Albert' ,'albert@gmail.com' , 'SVT' ],\n",
        "        ['Nathalie', 'nathalie@gmail.com' , 'Sc Eco'], \n",
        "        ['Roberto' ,'roberto@gmail.com' , 'Physique'],\n",
        "        ['Adam' , 'adam@gmail.com' , 'Info']]\n",
        "labels = [11 , 12, 13 , 14, 15]\n",
        " \n",
        "# création du DataFrame\n",
        "df = ps.DataFrame(data , index=labels , columns=[ 'Name' , 'Email' , 'Section'])\n",
        " \n",
        "# récupération de la liste des emails\n",
        "list_email = list(df ['Email'])\n",
        " \n",
        "# afficher la liste des emails\n",
        "print(list_email)\n",
        "-->"
      ],
      "metadata": {
        "id": "aEtHHML-gB0f"
      }
    },
    {
      "cell_type": "markdown",
      "source": [
        "**Exercice 7 :**    \n",
        "Ecrire un programme python pandas qui permet de sélectionner et afficher uniquement les deux colonnes 'Nom' et 'Age':"
      ],
      "metadata": {
        "id": "aS5gSlTzgOgt"
      }
    },
    {
      "cell_type": "code",
      "source": [
        "dictData = {'ID' : [31, 71, 30 , 11 , 23] , \n",
        "            'Nom': ['Julia', 'Tiago', 'Charlie' , 'Alba' , 'Isaac'],  \n",
        "        'Age': [22, 21, 20, 20 , 23], \n",
        "        'Taille': [170, 190, 181 , 175 , 165]}\n",
        "# création du dataframe\n",
        "df = ps.DataFrame(dictData , index=[235 , 155 , 243 , 311 , 117])\n",
        " "
      ],
      "metadata": {
        "id": "pH3LsA3Tgas5"
      },
      "execution_count": null,
      "outputs": []
    },
    {
      "cell_type": "code",
      "source": [
        "#solution"
      ],
      "metadata": {
        "id": "wbHrx6TRk62j"
      },
      "execution_count": null,
      "outputs": []
    },
    {
      "cell_type": "markdown",
      "source": [
        "Double-click __here__ for the solution.\n",
        "\n",
        "<!-- Your answer is below: \n",
        "import pandas as pan\n",
        " \n",
        "dictData = {'ID' : [31, 71, 30 , 11 , 23] , \n",
        "            'Nom': ['Julia', 'Tiago', 'Charlie' , 'Alba' , 'Isaac'],  \n",
        "        'Age': [22, 21, 20, 20 , 23], \n",
        "        'Taille': [170, 190, 181 , 175 , 165]}\n",
        "# création du dataframe\n",
        "df = pan.DataFrame(dictData , index=[235 , 155 , 243 , 311 , 117])\n",
        " \n",
        "# Afficher uniquement les colonnes 'Nom' et 'Age'\n",
        "print(df[['Nom','Age']])\n",
        "-->"
      ],
      "metadata": {
        "id": "HRIIrHY9ge3i"
      }
    },
    {
      "cell_type": "markdown",
      "source": [
        "**Exercice 8 :**    \n",
        "Ecrire un programme pandas python permettant de récupérer la liste des index de la série pandas suivante:"
      ],
      "metadata": {
        "id": "eDw9myRJhJwj"
      }
    },
    {
      "cell_type": "code",
      "source": [
        "data = np.array (['P', 'y', 't', 'h', 'o' , 'n'])\n",
        "s = ps.Series(data , index=[12 , 7 , 13 , 22 , 11 , 2])"
      ],
      "metadata": {
        "id": "EKjH6_kPhJUB"
      },
      "execution_count": null,
      "outputs": []
    },
    {
      "cell_type": "code",
      "source": [
        "#solution"
      ],
      "metadata": {
        "id": "iMdzC7VQk7uz"
      },
      "execution_count": null,
      "outputs": []
    },
    {
      "cell_type": "markdown",
      "source": [
        "Double-click __here__ for the solution.\n",
        "\n",
        "<!-- Your answer is below: \n",
        "# importation de pandas as ps\n",
        "import pandas as ps\n",
        " \n",
        "# importation de  numpy as np\n",
        "import numpy as np\n",
        " \n",
        "# tableau simple\n",
        "data = np.array (['P', 'y', 't', 'h', 'o' , 'n'])\n",
        " \n",
        "s = ps.Series(data , index=[12 , 7 , 13 , 22 , 11 , 2])\n",
        " \n",
        "# obtenir la liste des index\n",
        "list_index = list(s.index)\n",
        " \n",
        "# afficher la liste des index\n",
        "print(list_index)\n",
        "-->"
      ],
      "metadata": {
        "id": "IBgxABTDhgeb"
      }
    },
    {
      "cell_type": "markdown",
      "source": [
        "**Exercice 9 :**    \n",
        "Ecrire un programme basé sur la bibliothèque python pandas qui permet de convertir la série pandas suivante en un dictionnaire python:"
      ],
      "metadata": {
        "id": "DMGEiajnjFPM"
      }
    },
    {
      "cell_type": "code",
      "source": [
        "s = ps.Series([\"Louis\" , \"Maya\" , \"Yassmine\"  ,  \"Rosa\" , \"Tomas\"] , \n",
        "              index= [17 , 21 , 19 , 13  , 27 ])\n",
        " "
      ],
      "metadata": {
        "id": "H2m-MfB3jOpV"
      },
      "execution_count": null,
      "outputs": []
    },
    {
      "cell_type": "code",
      "source": [
        "#solution"
      ],
      "metadata": {
        "id": "amIc8_sDk8sA"
      },
      "execution_count": null,
      "outputs": []
    },
    {
      "cell_type": "markdown",
      "source": [
        "Double-click __here__ for the solution.\n",
        "\n",
        "<!-- Your answer is below: \n",
        "# importation de pandas as ps\n",
        "import pandas as ps\n",
        " \n",
        "# création de la série pandas\n",
        "s = ps.Series([\"Louis\" , \"Maya\" , \"Yassmine\"  ,  \"Rosa\" , \"Tomas\"] , \n",
        "              index= [17 , 21 , 19 , 13  , 27 ])\n",
        " \n",
        "# initialiser le dictionnaire demandé\n",
        "Students = dict({})\n",
        " \n",
        "for i in range(0 , len(s)):\n",
        "    Students[s.index[i]] = s[s.index[i]]\n",
        " \n",
        "# afficher le dictionnaire\n",
        "print(\"Students = \" , Students)\n",
        "-->"
      ],
      "metadata": {
        "id": "BVM57ORyjUKJ"
      }
    },
    {
      "cell_type": "markdown",
      "source": [
        "**Exercice 10 :**    \n",
        "Ecrire un programme basé sur la bibliothèque pandas python qui permet d'ajouter le nom 'Clara' à la série pandas suivante:"
      ],
      "metadata": {
        "id": "MpfL7nOYkM18"
      }
    },
    {
      "cell_type": "code",
      "source": [
        "s = pandas.Series([\"Emma\" , \"Alice\" , \"Paul\"  ,  \"Tiago\" , \"Julia\"] , \n",
        "              index= [17 , 21 , 19 , 13  , 27 ])"
      ],
      "metadata": {
        "id": "gDFM1xkAknEA"
      },
      "execution_count": null,
      "outputs": []
    },
    {
      "cell_type": "code",
      "source": [
        "#solution"
      ],
      "metadata": {
        "id": "9gBK8J4ok9Z3"
      },
      "execution_count": null,
      "outputs": []
    },
    {
      "cell_type": "markdown",
      "source": [
        "Double-click __here__ for the solution.\n",
        "\n",
        "<!-- Your answer is below: \n",
        "# importation de pandas as ps\n",
        "import pandas as ps\n",
        " \n",
        "# création de la série pandas\n",
        "s = ps.Series([\"Emma\" , \"Alice\" , \"Paul\"  ,  \"Tiago\" , \"Julia\"] , \n",
        "              index= [17 , 21 , 19 , 13  , 27 ])\n",
        " \n",
        "# ajout de l'élément demandé\n",
        "s2 = s.append(ps.Series([\"Clara\"] , index=[11]))\n",
        " \n",
        "# afficher la nouvelle série pandas\n",
        "print(s2)\n",
        "-->"
      ],
      "metadata": {
        "id": "-7yrZkRMkoEC"
      }
    }
  ]
}