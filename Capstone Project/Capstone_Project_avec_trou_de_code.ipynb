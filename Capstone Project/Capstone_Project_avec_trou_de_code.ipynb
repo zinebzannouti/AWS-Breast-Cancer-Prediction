{
  "nbformat": 4,
  "nbformat_minor": 0,
  "metadata": {
    "colab": {
      "provenance": [],
      "authorship_tag": "ABX9TyOS/ErElzQBABO0zLI0X0df",
      "include_colab_link": true
    },
    "kernelspec": {
      "name": "python3",
      "display_name": "Python 3"
    },
    "language_info": {
      "name": "python"
    }
  },
  "cells": [
    {
      "cell_type": "markdown",
      "metadata": {
        "id": "view-in-github",
        "colab_type": "text"
      },
      "source": [
        "<a href=\"https://colab.research.google.com/github/zinebzannouti/AWS-Breast-Cancer-Prediction/blob/main/Capstone%20Project/Capstone_Project_avec_trou_de_code.ipynb\" target=\"_parent\"><img src=\"https://colab.research.google.com/assets/colab-badge.svg\" alt=\"Open In Colab\"/></a>"
      ]
    },
    {
      "cell_type": "markdown",
      "source": [
        "# **Étapes générales d'exploration pour les données catégorielles**\n",
        "![a.PNG](data:image/png;base64,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)\n",
        "- Dans cette section, vous vous concentrerez sur le traitement des entités catégorielles dans le jeu de pnwflights14données, mais vous pouvez appliquer la même procédure à tous les types de jeux de données.\n",
        "- pnwflights14est une version modifiée de l'ensemble de nycflights13données de Hadley Wickham et contient des informations sur tous les vols au départ des deux principaux aéroports du nord-ouest du Pacifique (PNW), SEA à Seattle et PDX à Portland, en 2014 : 162 049 vols au total.\n",
        "\n",
        "- Pour aider à comprendre les causes des retards, il comprend également un certain nombre d'autres ensembles de données utiles :\n",
        "\n",
        "- weather: les données météorologiques horaires de chaque aéroport\n",
        "- planes: informations constructeur sur chaque avion\n",
        "- airports: noms et emplacements des aéroports\n",
        "- airlines: traduction entre deux codes et noms de facteur\n",
        "\n",
        "- Puisqu'il est toujours bon de comprendre avant de commencer à travailler dessus, vous explorerez brièvement les données !\n",
        "- Pour ce faire, vous allez d'abord importer les bibliothèques de base que vous utiliserez tout au long du didacticiel, à savoir pandas, numpyet copy.\n",
        "\n",
        "- Assurez-vous également que vous définissez Matplotlib pour tracer en ligne, ce qui signifie que le tracé généré apparaîtra immédiatement sous chaque cellule de code."
      ],
      "metadata": {
        "id": "VeHUuOC8DtFk"
      }
    },
    {
      "cell_type": "code",
      "execution_count": 2,
      "metadata": {
        "id": "jv_1b09jDsSh"
      },
      "outputs": [],
      "source": [
        "import pandas as pd\n",
        "import numpy as np\n",
        "import copy\n",
        "%matplotlib inline"
      ]
    },
    {
      "cell_type": "markdown",
      "source": [
        "- Ensuite, vous lirez l'ensemble de données flights dans un pandas DataFrame avec read_csv()et vérifierez le contenu avec la .head()méthode."
      ],
      "metadata": {
        "id": "zTBSIYK7EdmK"
      }
    },
    {
      "cell_type": "code",
      "source": [
        "df_flights = pd.read_csv('https://raw.githubusercontent.com/ismayc/pnwflights14/master/data/flights.csv')\n",
        "#Afficher le contenu du datafreme avec la méthode .head()"
      ],
      "metadata": {
        "colab": {
          "base_uri": "https://localhost:8080/",
          "height": 206
        },
        "id": "QucIZ40REik8",
        "outputId": "1fb6d749-f312-4b8f-bb9f-d676c1bee40c"
      },
      "execution_count": 3,
      "outputs": [
        {
          "output_type": "execute_result",
          "data": {
            "text/plain": [
              "   year  month  day  dep_time  dep_delay  arr_time  arr_delay carrier tailnum  \\\n",
              "0  2014      1    1       1.0       96.0     235.0       70.0      AS  N508AS   \n",
              "1  2014      1    1       4.0       -6.0     738.0      -23.0      US  N195UW   \n",
              "2  2014      1    1       8.0       13.0     548.0       -4.0      UA  N37422   \n",
              "3  2014      1    1      28.0       -2.0     800.0      -23.0      US  N547UW   \n",
              "4  2014      1    1      34.0       44.0     325.0       43.0      AS  N762AS   \n",
              "\n",
              "   flight origin dest  air_time  distance  hour  minute  \n",
              "0     145    PDX  ANC     194.0      1542   0.0     1.0  \n",
              "1    1830    SEA  CLT     252.0      2279   0.0     4.0  \n",
              "2    1609    PDX  IAH     201.0      1825   0.0     8.0  \n",
              "3     466    PDX  CLT     251.0      2282   0.0    28.0  \n",
              "4     121    SEA  ANC     201.0      1448   0.0    34.0  "
            ],
            "text/html": [
              "\n",
              "  <div id=\"df-23da9ccc-abb5-4aed-bc26-6c416268a2d4\">\n",
              "    <div class=\"colab-df-container\">\n",
              "      <div>\n",
              "<style scoped>\n",
              "    .dataframe tbody tr th:only-of-type {\n",
              "        vertical-align: middle;\n",
              "    }\n",
              "\n",
              "    .dataframe tbody tr th {\n",
              "        vertical-align: top;\n",
              "    }\n",
              "\n",
              "    .dataframe thead th {\n",
              "        text-align: right;\n",
              "    }\n",
              "</style>\n",
              "<table border=\"1\" class=\"dataframe\">\n",
              "  <thead>\n",
              "    <tr style=\"text-align: right;\">\n",
              "      <th></th>\n",
              "      <th>year</th>\n",
              "      <th>month</th>\n",
              "      <th>day</th>\n",
              "      <th>dep_time</th>\n",
              "      <th>dep_delay</th>\n",
              "      <th>arr_time</th>\n",
              "      <th>arr_delay</th>\n",
              "      <th>carrier</th>\n",
              "      <th>tailnum</th>\n",
              "      <th>flight</th>\n",
              "      <th>origin</th>\n",
              "      <th>dest</th>\n",
              "      <th>air_time</th>\n",
              "      <th>distance</th>\n",
              "      <th>hour</th>\n",
              "      <th>minute</th>\n",
              "    </tr>\n",
              "  </thead>\n",
              "  <tbody>\n",
              "    <tr>\n",
              "      <th>0</th>\n",
              "      <td>2014</td>\n",
              "      <td>1</td>\n",
              "      <td>1</td>\n",
              "      <td>1.0</td>\n",
              "      <td>96.0</td>\n",
              "      <td>235.0</td>\n",
              "      <td>70.0</td>\n",
              "      <td>AS</td>\n",
              "      <td>N508AS</td>\n",
              "      <td>145</td>\n",
              "      <td>PDX</td>\n",
              "      <td>ANC</td>\n",
              "      <td>194.0</td>\n",
              "      <td>1542</td>\n",
              "      <td>0.0</td>\n",
              "      <td>1.0</td>\n",
              "    </tr>\n",
              "    <tr>\n",
              "      <th>1</th>\n",
              "      <td>2014</td>\n",
              "      <td>1</td>\n",
              "      <td>1</td>\n",
              "      <td>4.0</td>\n",
              "      <td>-6.0</td>\n",
              "      <td>738.0</td>\n",
              "      <td>-23.0</td>\n",
              "      <td>US</td>\n",
              "      <td>N195UW</td>\n",
              "      <td>1830</td>\n",
              "      <td>SEA</td>\n",
              "      <td>CLT</td>\n",
              "      <td>252.0</td>\n",
              "      <td>2279</td>\n",
              "      <td>0.0</td>\n",
              "      <td>4.0</td>\n",
              "    </tr>\n",
              "    <tr>\n",
              "      <th>2</th>\n",
              "      <td>2014</td>\n",
              "      <td>1</td>\n",
              "      <td>1</td>\n",
              "      <td>8.0</td>\n",
              "      <td>13.0</td>\n",
              "      <td>548.0</td>\n",
              "      <td>-4.0</td>\n",
              "      <td>UA</td>\n",
              "      <td>N37422</td>\n",
              "      <td>1609</td>\n",
              "      <td>PDX</td>\n",
              "      <td>IAH</td>\n",
              "      <td>201.0</td>\n",
              "      <td>1825</td>\n",
              "      <td>0.0</td>\n",
              "      <td>8.0</td>\n",
              "    </tr>\n",
              "    <tr>\n",
              "      <th>3</th>\n",
              "      <td>2014</td>\n",
              "      <td>1</td>\n",
              "      <td>1</td>\n",
              "      <td>28.0</td>\n",
              "      <td>-2.0</td>\n",
              "      <td>800.0</td>\n",
              "      <td>-23.0</td>\n",
              "      <td>US</td>\n",
              "      <td>N547UW</td>\n",
              "      <td>466</td>\n",
              "      <td>PDX</td>\n",
              "      <td>CLT</td>\n",
              "      <td>251.0</td>\n",
              "      <td>2282</td>\n",
              "      <td>0.0</td>\n",
              "      <td>28.0</td>\n",
              "    </tr>\n",
              "    <tr>\n",
              "      <th>4</th>\n",
              "      <td>2014</td>\n",
              "      <td>1</td>\n",
              "      <td>1</td>\n",
              "      <td>34.0</td>\n",
              "      <td>44.0</td>\n",
              "      <td>325.0</td>\n",
              "      <td>43.0</td>\n",
              "      <td>AS</td>\n",
              "      <td>N762AS</td>\n",
              "      <td>121</td>\n",
              "      <td>SEA</td>\n",
              "      <td>ANC</td>\n",
              "      <td>201.0</td>\n",
              "      <td>1448</td>\n",
              "      <td>0.0</td>\n",
              "      <td>34.0</td>\n",
              "    </tr>\n",
              "  </tbody>\n",
              "</table>\n",
              "</div>\n",
              "      <button class=\"colab-df-convert\" onclick=\"convertToInteractive('df-23da9ccc-abb5-4aed-bc26-6c416268a2d4')\"\n",
              "              title=\"Convert this dataframe to an interactive table.\"\n",
              "              style=\"display:none;\">\n",
              "        \n",
              "  <svg xmlns=\"http://www.w3.org/2000/svg\" height=\"24px\"viewBox=\"0 0 24 24\"\n",
              "       width=\"24px\">\n",
              "    <path d=\"M0 0h24v24H0V0z\" fill=\"none\"/>\n",
              "    <path d=\"M18.56 5.44l.94 2.06.94-2.06 2.06-.94-2.06-.94-.94-2.06-.94 2.06-2.06.94zm-11 1L8.5 8.5l.94-2.06 2.06-.94-2.06-.94L8.5 2.5l-.94 2.06-2.06.94zm10 10l.94 2.06.94-2.06 2.06-.94-2.06-.94-.94-2.06-.94 2.06-2.06.94z\"/><path d=\"M17.41 7.96l-1.37-1.37c-.4-.4-.92-.59-1.43-.59-.52 0-1.04.2-1.43.59L10.3 9.45l-7.72 7.72c-.78.78-.78 2.05 0 2.83L4 21.41c.39.39.9.59 1.41.59.51 0 1.02-.2 1.41-.59l7.78-7.78 2.81-2.81c.8-.78.8-2.07 0-2.86zM5.41 20L4 18.59l7.72-7.72 1.47 1.35L5.41 20z\"/>\n",
              "  </svg>\n",
              "      </button>\n",
              "      \n",
              "  <style>\n",
              "    .colab-df-container {\n",
              "      display:flex;\n",
              "      flex-wrap:wrap;\n",
              "      gap: 12px;\n",
              "    }\n",
              "\n",
              "    .colab-df-convert {\n",
              "      background-color: #E8F0FE;\n",
              "      border: none;\n",
              "      border-radius: 50%;\n",
              "      cursor: pointer;\n",
              "      display: none;\n",
              "      fill: #1967D2;\n",
              "      height: 32px;\n",
              "      padding: 0 0 0 0;\n",
              "      width: 32px;\n",
              "    }\n",
              "\n",
              "    .colab-df-convert:hover {\n",
              "      background-color: #E2EBFA;\n",
              "      box-shadow: 0px 1px 2px rgba(60, 64, 67, 0.3), 0px 1px 3px 1px rgba(60, 64, 67, 0.15);\n",
              "      fill: #174EA6;\n",
              "    }\n",
              "\n",
              "    [theme=dark] .colab-df-convert {\n",
              "      background-color: #3B4455;\n",
              "      fill: #D2E3FC;\n",
              "    }\n",
              "\n",
              "    [theme=dark] .colab-df-convert:hover {\n",
              "      background-color: #434B5C;\n",
              "      box-shadow: 0px 1px 3px 1px rgba(0, 0, 0, 0.15);\n",
              "      filter: drop-shadow(0px 1px 2px rgba(0, 0, 0, 0.3));\n",
              "      fill: #FFFFFF;\n",
              "    }\n",
              "  </style>\n",
              "\n",
              "      <script>\n",
              "        const buttonEl =\n",
              "          document.querySelector('#df-23da9ccc-abb5-4aed-bc26-6c416268a2d4 button.colab-df-convert');\n",
              "        buttonEl.style.display =\n",
              "          google.colab.kernel.accessAllowed ? 'block' : 'none';\n",
              "\n",
              "        async function convertToInteractive(key) {\n",
              "          const element = document.querySelector('#df-23da9ccc-abb5-4aed-bc26-6c416268a2d4');\n",
              "          const dataTable =\n",
              "            await google.colab.kernel.invokeFunction('convertToInteractive',\n",
              "                                                     [key], {});\n",
              "          if (!dataTable) return;\n",
              "\n",
              "          const docLinkHtml = 'Like what you see? Visit the ' +\n",
              "            '<a target=\"_blank\" href=https://colab.research.google.com/notebooks/data_table.ipynb>data table notebook</a>'\n",
              "            + ' to learn more about interactive tables.';\n",
              "          element.innerHTML = '';\n",
              "          dataTable['output_type'] = 'display_data';\n",
              "          await google.colab.output.renderOutput(dataTable, element);\n",
              "          const docLink = document.createElement('div');\n",
              "          docLink.innerHTML = docLinkHtml;\n",
              "          element.appendChild(docLink);\n",
              "        }\n",
              "      </script>\n",
              "    </div>\n",
              "  </div>\n",
              "  "
            ]
          },
          "metadata": {},
          "execution_count": 3
        }
      ]
    },
    {
      "cell_type": "markdown",
      "source": [
        "- Comme vous le remarquerez probablement, le DataFrame ci-dessus contient toutes sortes d'informations sur les vols comme l'année, le retard de départ, l'heure d'arrivée, le transporteur, la destination, etc.\n",
        "\n",
        "- L'étape suivante consiste à rassembler des informations sur les différentes colonnes de votre DataFrame. Vous pouvez le faire en utilisant .info(), qui vous donne essentiellement des informations sur le nombre de lignes, de colonnes, de types de données de colonne, d'utilisation de la mémoire, etc."
      ],
      "metadata": {
        "id": "iUwbBvLLEr62"
      }
    },
    {
      "cell_type": "code",
      "source": [
        "#fill_here"
      ],
      "metadata": {
        "colab": {
          "base_uri": "https://localhost:8080/"
        },
        "id": "ZEaODkwfE4lW",
        "outputId": "b39cf4d3-c337-4d93-f23d-944603e566bd"
      },
      "execution_count": 7,
      "outputs": [
        {
          "output_type": "stream",
          "name": "stdout",
          "text": [
            "<class 'pandas.core.frame.DataFrame'>\n",
            "RangeIndex: 162049 entries, 0 to 162048\n",
            "Data columns (total 16 columns):\n",
            " #   Column     Non-Null Count   Dtype  \n",
            "---  ------     --------------   -----  \n",
            " 0   year       162049 non-null  int64  \n",
            " 1   month      162049 non-null  int64  \n",
            " 2   day        162049 non-null  int64  \n",
            " 3   dep_time   161192 non-null  float64\n",
            " 4   dep_delay  161192 non-null  float64\n",
            " 5   arr_time   161061 non-null  float64\n",
            " 6   arr_delay  160748 non-null  float64\n",
            " 7   carrier    162049 non-null  object \n",
            " 8   tailnum    161801 non-null  object \n",
            " 9   flight     162049 non-null  int64  \n",
            " 10  origin     162049 non-null  object \n",
            " 11  dest       162049 non-null  object \n",
            " 12  air_time   160748 non-null  float64\n",
            " 13  distance   162049 non-null  int64  \n",
            " 14  hour       161192 non-null  float64\n",
            " 15  minute     161192 non-null  float64\n",
            "dtypes: float64(7), int64(5), object(4)\n",
            "memory usage: 19.8+ MB\n",
            "None\n"
          ]
        }
      ]
    },
    {
      "cell_type": "markdown",
      "source": [
        "- Comme vous pouvez le voir, les colonnes comme year, monthet daysont lues comme des entiers, et dep_time, dep_delayetc. sont lues comme des flottants.\n",
        "\n",
        "- Les colonnes avec objet dtypesont les caractéristiques catégorielles possibles dans votre jeu de données.\n",
        "\n",
        "- La raison pour laquelle vous diriez que ces caractéristiques catégorielles sont \"possibles\" est parce que vous ne devriez pas vous fier complètement .info()pour obtenir le type de données réel des valeurs d'une caractéristique, car certaines valeurs manquantes qui sont représentées sous forme de chaînes dans une caractéristique continue peut le contraindre à les lire comme objectdtypes.\n",
        "\n",
        "- C'est pourquoi c'est toujours une bonne idée d'examiner minutieusement votre ensemble de données brutes, puis de penser à le nettoyer.\n",
        "\n",
        "- L'un des moyens les plus courants d'analyser la relation entre une caractéristique catégorique et une caractéristique continue consiste à tracer une boîte à moustaches. \n",
        "- La boîte à moustaches est un moyen simple de représenter des données statistiques sur un graphique dans lequel un rectangle est dessiné pour représenter les deuxième et troisième quartiles, généralement avec une ligne verticale à l'intérieur pour indiquer la valeur médiane.\n",
        "- Les quartiles inférieur et supérieur sont représentés par des lignes horizontales de part et d'autre du rectangle.\n",
        "\n",
        "- Vous pouvez tracer un boxplot en .boxplot()appelant sur votre DataFrame. Ici, vous allez tracer une boîte à moustaches de la dep_timecolonne par rapport aux deux originvols de PDXet SEA."
      ],
      "metadata": {
        "id": "mPW73wq1Fupp"
      }
    },
    {
      "cell_type": "code",
      "source": [
        "df_flights.boxplot('dep_time','origin',rot = 30,figsize=(5,6))"
      ],
      "metadata": {
        "colab": {
          "base_uri": "https://localhost:8080/",
          "height": 501
        },
        "id": "urHuKuAkF39S",
        "outputId": "1ae55789-f671-4766-a159-6c4b00dc19b3"
      },
      "execution_count": 8,
      "outputs": [
        {
          "output_type": "stream",
          "name": "stderr",
          "text": [
            "/usr/local/lib/python3.8/dist-packages/matplotlib/cbook/__init__.py:1376: VisibleDeprecationWarning: Creating an ndarray from ragged nested sequences (which is a list-or-tuple of lists-or-tuples-or ndarrays with different lengths or shapes) is deprecated. If you meant to do this, you must specify 'dtype=object' when creating the ndarray.\n",
            "  X = np.atleast_1d(X.T if isinstance(X, np.ndarray) else np.asarray(X))\n"
          ]
        },
        {
          "output_type": "execute_result",
          "data": {
            "text/plain": [
              "<matplotlib.axes._subplots.AxesSubplot at 0x7f51e006fe20>"
            ]
          },
          "metadata": {},
          "execution_count": 8
        },
        {
          "output_type": "display_data",
          "data": {
            "text/plain": [
              "<Figure size 360x432 with 1 Axes>"
            ],
            "image/png": "[encoded data removed]"
          },
          "metadata": {
            "needs_background": "light"
          }
        }
      ]
    },
    {
      "cell_type": "markdown",
      "source": [
        "- Comme vous ne traiterez que des fonctionnalités catégorielles dans ce didacticiel, il est préférable de les filtrer.\n",
        "- Vous pouvez créer un DataFrame distinct composé uniquement de ces fonctionnalités en exécutant la commande suivante.\n",
        "- La méthode .copy()est utilisée ici afin que les modifications apportées dans le nouveau DataFrame ne soient pas reflétées dans l'original.\n"
      ],
      "metadata": {
        "id": "qizy_6l0F-AQ"
      }
    },
    {
      "cell_type": "code",
      "source": [
        "cat_df_flights = df_flights.select_dtypes(include=['object']).copy()"
      ],
      "metadata": {
        "id": "TXnQ-nrfGB2V"
      },
      "execution_count": 9,
      "outputs": []
    },
    {
      "cell_type": "code",
      "source": [
        "#Afficher le contenu du datafreme cat_df_flights avec la méthode .head()"
      ],
      "metadata": {
        "colab": {
          "base_uri": "https://localhost:8080/",
          "height": 206
        },
        "id": "4-DCZUz0GFVt",
        "outputId": "ccf8a789-c969-4044-9c24-84eb7b7bddd7"
      },
      "execution_count": 10,
      "outputs": [
        {
          "output_type": "execute_result",
          "data": {
            "text/plain": [
              "  carrier tailnum origin dest\n",
              "0      AS  N508AS    PDX  ANC\n",
              "1      US  N195UW    SEA  CLT\n",
              "2      UA  N37422    PDX  IAH\n",
              "3      US  N547UW    PDX  CLT\n",
              "4      AS  N762AS    SEA  ANC"
            ],
            "text/html": [
              "\n",
              "  <div id=\"df-6750b039-25ea-4060-9193-ebfc0755a151\">\n",
              "    <div class=\"colab-df-container\">\n",
              "      <div>\n",
              "<style scoped>\n",
              "    .dataframe tbody tr th:only-of-type {\n",
              "        vertical-align: middle;\n",
              "    }\n",
              "\n",
              "    .dataframe tbody tr th {\n",
              "        vertical-align: top;\n",
              "    }\n",
              "\n",
              "    .dataframe thead th {\n",
              "        text-align: right;\n",
              "    }\n",
              "</style>\n",
              "<table border=\"1\" class=\"dataframe\">\n",
              "  <thead>\n",
              "    <tr style=\"text-align: right;\">\n",
              "      <th></th>\n",
              "      <th>carrier</th>\n",
              "      <th>tailnum</th>\n",
              "      <th>origin</th>\n",
              "      <th>dest</th>\n",
              "    </tr>\n",
              "  </thead>\n",
              "  <tbody>\n",
              "    <tr>\n",
              "      <th>0</th>\n",
              "      <td>AS</td>\n",
              "      <td>N508AS</td>\n",
              "      <td>PDX</td>\n",
              "      <td>ANC</td>\n",
              "    </tr>\n",
              "    <tr>\n",
              "      <th>1</th>\n",
              "      <td>US</td>\n",
              "      <td>N195UW</td>\n",
              "      <td>SEA</td>\n",
              "      <td>CLT</td>\n",
              "    </tr>\n",
              "    <tr>\n",
              "      <th>2</th>\n",
              "      <td>UA</td>\n",
              "      <td>N37422</td>\n",
              "      <td>PDX</td>\n",
              "      <td>IAH</td>\n",
              "    </tr>\n",
              "    <tr>\n",
              "      <th>3</th>\n",
              "      <td>US</td>\n",
              "      <td>N547UW</td>\n",
              "      <td>PDX</td>\n",
              "      <td>CLT</td>\n",
              "    </tr>\n",
              "    <tr>\n",
              "      <th>4</th>\n",
              "      <td>AS</td>\n",
              "      <td>N762AS</td>\n",
              "      <td>SEA</td>\n",
              "      <td>ANC</td>\n",
              "    </tr>\n",
              "  </tbody>\n",
              "</table>\n",
              "</div>\n",
              "      <button class=\"colab-df-convert\" onclick=\"convertToInteractive('df-6750b039-25ea-4060-9193-ebfc0755a151')\"\n",
              "              title=\"Convert this dataframe to an interactive table.\"\n",
              "              style=\"display:none;\">\n",
              "        \n",
              "  <svg xmlns=\"http://www.w3.org/2000/svg\" height=\"24px\"viewBox=\"0 0 24 24\"\n",
              "       width=\"24px\">\n",
              "    <path d=\"M0 0h24v24H0V0z\" fill=\"none\"/>\n",
              "    <path d=\"M18.56 5.44l.94 2.06.94-2.06 2.06-.94-2.06-.94-.94-2.06-.94 2.06-2.06.94zm-11 1L8.5 8.5l.94-2.06 2.06-.94-2.06-.94L8.5 2.5l-.94 2.06-2.06.94zm10 10l.94 2.06.94-2.06 2.06-.94-2.06-.94-.94-2.06-.94 2.06-2.06.94z\"/><path d=\"M17.41 7.96l-1.37-1.37c-.4-.4-.92-.59-1.43-.59-.52 0-1.04.2-1.43.59L10.3 9.45l-7.72 7.72c-.78.78-.78 2.05 0 2.83L4 21.41c.39.39.9.59 1.41.59.51 0 1.02-.2 1.41-.59l7.78-7.78 2.81-2.81c.8-.78.8-2.07 0-2.86zM5.41 20L4 18.59l7.72-7.72 1.47 1.35L5.41 20z\"/>\n",
              "  </svg>\n",
              "      </button>\n",
              "      \n",
              "  <style>\n",
              "    .colab-df-container {\n",
              "      display:flex;\n",
              "      flex-wrap:wrap;\n",
              "      gap: 12px;\n",
              "    }\n",
              "\n",
              "    .colab-df-convert {\n",
              "      background-color: #E8F0FE;\n",
              "      border: none;\n",
              "      border-radius: 50%;\n",
              "      cursor: pointer;\n",
              "      display: none;\n",
              "      fill: #1967D2;\n",
              "      height: 32px;\n",
              "      padding: 0 0 0 0;\n",
              "      width: 32px;\n",
              "    }\n",
              "\n",
              "    .colab-df-convert:hover {\n",
              "      background-color: #E2EBFA;\n",
              "      box-shadow: 0px 1px 2px rgba(60, 64, 67, 0.3), 0px 1px 3px 1px rgba(60, 64, 67, 0.15);\n",
              "      fill: #174EA6;\n",
              "    }\n",
              "\n",
              "    [theme=dark] .colab-df-convert {\n",
              "      background-color: #3B4455;\n",
              "      fill: #D2E3FC;\n",
              "    }\n",
              "\n",
              "    [theme=dark] .colab-df-convert:hover {\n",
              "      background-color: #434B5C;\n",
              "      box-shadow: 0px 1px 3px 1px rgba(0, 0, 0, 0.15);\n",
              "      filter: drop-shadow(0px 1px 2px rgba(0, 0, 0, 0.3));\n",
              "      fill: #FFFFFF;\n",
              "    }\n",
              "  </style>\n",
              "\n",
              "      <script>\n",
              "        const buttonEl =\n",
              "          document.querySelector('#df-6750b039-25ea-4060-9193-ebfc0755a151 button.colab-df-convert');\n",
              "        buttonEl.style.display =\n",
              "          google.colab.kernel.accessAllowed ? 'block' : 'none';\n",
              "\n",
              "        async function convertToInteractive(key) {\n",
              "          const element = document.querySelector('#df-6750b039-25ea-4060-9193-ebfc0755a151');\n",
              "          const dataTable =\n",
              "            await google.colab.kernel.invokeFunction('convertToInteractive',\n",
              "                                                     [key], {});\n",
              "          if (!dataTable) return;\n",
              "\n",
              "          const docLinkHtml = 'Like what you see? Visit the ' +\n",
              "            '<a target=\"_blank\" href=https://colab.research.google.com/notebooks/data_table.ipynb>data table notebook</a>'\n",
              "            + ' to learn more about interactive tables.';\n",
              "          element.innerHTML = '';\n",
              "          dataTable['output_type'] = 'display_data';\n",
              "          await google.colab.output.renderOutput(dataTable, element);\n",
              "          const docLink = document.createElement('div');\n",
              "          docLink.innerHTML = docLinkHtml;\n",
              "          element.appendChild(docLink);\n",
              "        }\n",
              "      </script>\n",
              "    </div>\n",
              "  </div>\n",
              "  "
            ]
          },
          "metadata": {},
          "execution_count": 10
        }
      ]
    },
    {
      "cell_type": "markdown",
      "source": [
        "- L'une des étapes de prétraitement des données les plus courantes consiste à vérifier les valeurs nulles dans l'ensemble de données.\n",
        "- Vous pouvez obtenir le nombre total de valeurs manquantes dans le DataFrame à l'aide du code de ligne suivant :"
      ],
      "metadata": {
        "id": "wP2QrETXGHe1"
      }
    },
    {
      "cell_type": "code",
      "source": [
        "#fill_here"
      ],
      "metadata": {
        "colab": {
          "base_uri": "https://localhost:8080/"
        },
        "id": "gxXp2NMaGLIo",
        "outputId": "15146187-6c18-4391-fba0-632fbbad4083"
      },
      "execution_count": 11,
      "outputs": [
        {
          "output_type": "stream",
          "name": "stdout",
          "text": [
            "248\n"
          ]
        }
      ]
    },
    {
      "cell_type": "code",
      "source": [
        "#fill_here"
      ],
      "metadata": {
        "colab": {
          "base_uri": "https://localhost:8080/"
        },
        "id": "DM67ZX5WGNRX",
        "outputId": "30207325-55f1-49e2-f68f-3c16564fdcc0"
      },
      "execution_count": 12,
      "outputs": [
        {
          "output_type": "stream",
          "name": "stdout",
          "text": [
            "carrier      0\n",
            "tailnum    248\n",
            "origin       0\n",
            "dest         0\n",
            "dtype: int64\n"
          ]
        }
      ]
    },
    {
      "cell_type": "markdown",
      "source": [
        "- Il semble que seule la tailnumcolonne ait des valeurs nulles. Vous pouvez effectuer une imputation de mode pour ces valeurs nulles.\n",
        "- La fonction fillna()est pratique pour de telles opérations.\n",
        "\n",
        "- Notez le chaînage de la méthode .value_counts()dans le code ci-dessous.\n",
        "- Cela renvoie la distribution de fréquence de chaque catégorie dans l'entité, puis sélectionne la catégorie supérieure, qui est le mode, avec l' .indexattribut."
      ],
      "metadata": {
        "id": "YjUnwbSyGPkt"
      }
    },
    {
      "cell_type": "code",
      "source": [
        "#fill_here"
      ],
      "metadata": {
        "id": "jDvTBxIyGXWE"
      },
      "execution_count": 13,
      "outputs": []
    },
    {
      "cell_type": "markdown",
      "source": [
        "- Vérifions que le nombre de valeurs nulles après l'imputation devrait donner un nombre nul."
      ],
      "metadata": {
        "id": "qqrzIK_QGaBY"
      }
    },
    {
      "cell_type": "code",
      "source": [
        "#fill_here"
      ],
      "metadata": {
        "colab": {
          "base_uri": "https://localhost:8080/"
        },
        "id": "OVN4oYyfGbX6",
        "outputId": "26f53047-c3c9-404b-fa0e-dab197f22f03"
      },
      "execution_count": 14,
      "outputs": [
        {
          "output_type": "stream",
          "name": "stdout",
          "text": [
            "0\n"
          ]
        }
      ]
    },
    {
      "cell_type": "markdown",
      "source": [
        "- Une autre étape d'analyse exploratoire des données (EDA) que vous pouvez effectuer sur les entités catégorielles est la distribution de fréquence des catégories au sein de l'entité, qui peut être effectuée avec la .value_counts()méthode décrite précédemment."
      ],
      "metadata": {
        "id": "2kUZvRT1GgQC"
      }
    },
    {
      "cell_type": "code",
      "source": [
        "print(cat_df_flights['carrier'].value_counts())"
      ],
      "metadata": {
        "colab": {
          "base_uri": "https://localhost:8080/"
        },
        "id": "UTztbjBLGjE-",
        "outputId": "4db1ec28-bd48-4662-c451-42c11dc56588"
      },
      "execution_count": 15,
      "outputs": [
        {
          "output_type": "stream",
          "name": "stdout",
          "text": [
            "AS    62460\n",
            "WN    23355\n",
            "OO    18710\n",
            "DL    16716\n",
            "UA    16671\n",
            "AA     7586\n",
            "US     5946\n",
            "B6     3540\n",
            "VX     3272\n",
            "F9     2698\n",
            "HA     1095\n",
            "Name: carrier, dtype: int64\n"
          ]
        }
      ]
    },
    {
      "cell_type": "markdown",
      "source": [
        "- Pour connaître le nombre de catégories distinctes au sein de la fonctionnalité, vous pouvez enchaîner le code précédent avec la .count()méthode :Pour connaître le nombre de catégories distinctes au sein de la fonctionnalité, vous pouvez enchaîner le code précédent avec la .count()méthode :"
      ],
      "metadata": {
        "id": "koEsqu4vGltb"
      }
    },
    {
      "cell_type": "code",
      "source": [
        "#fill_here"
      ],
      "metadata": {
        "colab": {
          "base_uri": "https://localhost:8080/"
        },
        "id": "VzzeQZ-LGqDB",
        "outputId": "b95903a9-8452-496a-d1ac-95cf03964443"
      },
      "execution_count": 16,
      "outputs": [
        {
          "output_type": "stream",
          "name": "stdout",
          "text": [
            "11\n"
          ]
        }
      ]
    },
    {
      "cell_type": "markdown",
      "source": [
        "- L'exploration visuelle est le moyen le plus efficace d'extraire des informations entre les variables.\n",
        "\n",
        "- Vous trouverez ci-dessous un modèle de base pour tracer un graphique à barres de la distribution de fréquence d'une caractéristique catégorique à l'aide du seabornpackage, qui montre la distribution de fréquence de la carriercolonne. \n",
        "- Vous pouvez jouer avec différents arguments pour changer l'apparence de l'intrigue."
      ],
      "metadata": {
        "id": "rgHNBRleGzqt"
      }
    },
    {
      "cell_type": "code",
      "source": [
        "%matplotlib inline\n",
        "import seaborn as sns\n",
        "import matplotlib.pyplot as plt\n",
        "carrier_count = cat_df_flights['carrier'].value_counts()\n",
        "sns.set(style=\"darkgrid\")\n",
        "sns.barplot(carrier_count.index, carrier_count.values, alpha=0.9)\n",
        "plt.title('Frequency Distribution of Carriers')\n",
        "plt.ylabel('Number of Occurrences', fontsize=12)\n",
        "plt.xlabel('Carrier', fontsize=12)\n",
        "plt.show()"
      ],
      "metadata": {
        "colab": {
          "base_uri": "https://localhost:8080/",
          "height": 356
        },
        "id": "QR_h-I18G6Vx",
        "outputId": "0d290527-4e99-4928-c4ae-582d24794fa8"
      },
      "execution_count": 17,
      "outputs": [
        {
          "output_type": "stream",
          "name": "stderr",
          "text": [
            "/usr/local/lib/python3.8/dist-packages/seaborn/_decorators.py:36: FutureWarning: Pass the following variables as keyword args: x, y. From version 0.12, the only valid positional argument will be `data`, and passing other arguments without an explicit keyword will result in an error or misinterpretation.\n",
            "  warnings.warn(\n"
          ]
        },
        {
          "output_type": "display_data",
          "data": {
            "text/plain": [
              "<Figure size 432x288 with 1 Axes>"
            ],
            "image/png": "[encoded data removed]"
          },
          "metadata": {}
        }
      ]
    },
    {
      "cell_type": "markdown",
      "source": [
        "- De même, vous pouvez tracer un graphique à secteurs avec la matplotlibbibliothèque pour obtenir les mêmes informations. La labelsliste ci-dessous contient les noms de catégories de la carriercolonne :"
      ],
      "metadata": {
        "id": "fRk7ZHchG-Bk"
      }
    },
    {
      "cell_type": "code",
      "source": [
        "labels = cat_df_flights['carrier'].astype('category').cat.categories.tolist()\n",
        "counts = cat_df_flights['carrier'].value_counts()\n",
        "sizes = [counts[var_cat] for var_cat in labels]\n",
        "fig1, ax1 = plt.subplots()\n",
        "ax1.pie(sizes, labels=labels, autopct='%1.1f%%', shadow=True) #autopct is show the % on plot\n",
        "ax1.axis('equal')\n",
        "plt.show()"
      ],
      "metadata": {
        "colab": {
          "base_uri": "https://localhost:8080/",
          "height": 257
        },
        "id": "osq36sdeHAVT",
        "outputId": "c4927f26-1719-44f0-e469-8a5a7041598e"
      },
      "execution_count": 18,
      "outputs": [
        {
          "output_type": "display_data",
          "data": {
            "text/plain": [
              "<Figure size 432x288 with 1 Axes>"
            ],
            "image/png": "[encoded data removed]"
          },
          "metadata": {}
        }
      ]
    },
    {
      "cell_type": "markdown",
      "source": [
        "# **Encodage des données catégorielles**\n",
        "- Vous allez maintenant apprendre différentes techniques pour coder les caractéristiques catégorielles en quantités numériques.\n",
        "- Pour faire simple, vous appliquerez ces méthodes d'encodage uniquement sur la carriercolonne.\n",
        "- Cependant, la même approche peut être étendue à toutes les colonnes.\n",
        "\n",
        "- Les techniques que vous couvrirez sont les suivantes :\n",
        "\n",
        "    - Remplacement des valeurs\n",
        "    - Encodage des étiquettes\n",
        "    - Encodage One-Hot\n",
        "    - Encodage binaire\n",
        "\n"
      ],
      "metadata": {
        "id": "vx6bzvGqHGGv"
      }
    },
    {
      "cell_type": "markdown",
      "source": [
        "# **Remplacer les valeurs**\n",
        "- Commençons par la méthode la plus basique, qui consiste simplement à remplacer les catégories par les nombres souhaités. \n",
        "- Ceci peut être réalisé à l'aide de la replace()fonction dans pandas.\n",
        "- L'idée est que vous avez la liberté de choisir les numéros que vous souhaitez attribuer aux catégories en fonction du cas d'utilisation commerciale.\n",
        "\n",
        "- Vous allez maintenant créer un dictionnaire qui contient des numéros de mappage pour chaque catégorie dans la carriercolonne :"
      ],
      "metadata": {
        "id": "DbUPGek8KKvq"
      }
    },
    {
      "cell_type": "code",
      "source": [
        "replace_map = {'carrier': {'AA': 1, 'AS': 2, 'B6': 3, 'DL': 4,\n",
        "                                  'F9': 5, 'HA': 6, 'OO': 7 , 'UA': 8 , 'US': 9,'VX': 10,'WN': 11}}\n"
      ],
      "metadata": {
        "id": "9sK5wXHPKQMS"
      },
      "execution_count": 19,
      "outputs": []
    },
    {
      "cell_type": "markdown",
      "source": [
        "- **Notez** que la définition d'un mappage via un dictionnaire codé en dur est facile lorsque le nombre de catégories est faible, comme dans ce cas qui est de 11.\n",
        "- Vous pouvez obtenir le même mappage à l'aide des compréhensions du dictionnaire, comme indiqué ci-dessous.\n",
        "- Cela sera utile lorsque le nombre de catégories est élevé et que vous ne souhaitez pas taper chaque mappage.\n",
        "- Vous stockerez les noms de catégorie dans une liste appelée labels, puis zipen une séquence de nombres et parcourrez-la."
      ],
      "metadata": {
        "id": "1U9D4icAKV0g"
      }
    },
    {
      "cell_type": "code",
      "source": [
        "labels = cat_df_flights['carrier'].astype('category').cat.categories.tolist()\n",
        "replace_map_comp = {'carrier' : {k: v for k,v in zip(labels,list(range(1,len(labels)+1)))}}\n",
        "\n",
        "print(replace_map_comp)\n"
      ],
      "metadata": {
        "colab": {
          "base_uri": "https://localhost:8080/"
        },
        "id": "bkqtTyHgKdWG",
        "outputId": "55bd3da6-a945-4cd7-8738-2ce95f7d381c"
      },
      "execution_count": 20,
      "outputs": [
        {
          "output_type": "stream",
          "name": "stdout",
          "text": [
            "{'carrier': {'AA': 1, 'AS': 2, 'B6': 3, 'DL': 4, 'F9': 5, 'HA': 6, 'OO': 7, 'UA': 8, 'US': 9, 'VX': 10, 'WN': 11}}\n"
          ]
        }
      ]
    },
    {
      "cell_type": "markdown",
      "source": [
        "- Tout au long de ce didacticiel, vous ferez une copie de l'ensemble de données via la .copy()méthode pour pratiquer chaque technique d'encodage afin de vous assurer que le DataFrame d'origine reste intact et que les modifications que vous apportez ne se produisent que dans celui copié."
      ],
      "metadata": {
        "id": "W3HbV7JPKhjM"
      }
    },
    {
      "cell_type": "code",
      "source": [
        "cat_df_flights_replace = #fill_here\n"
      ],
      "metadata": {
        "id": "kJuL8ii8Kk5b"
      },
      "execution_count": 21,
      "outputs": []
    },
    {
      "cell_type": "markdown",
      "source": [
        "- Utilisez la replace()fonction sur le DataFrame en passant le dictionnaire de mappage comme argument :"
      ],
      "metadata": {
        "id": "6ZUFfscjKoqI"
      }
    },
    {
      "cell_type": "code",
      "source": [
        "cat_df_flights_replace.#fill_here\n",
        "\n",
        "print(#Afficher le contenu du datafreme cat_df_flights_replace avec la méthode .head())\n"
      ],
      "metadata": {
        "colab": {
          "base_uri": "https://localhost:8080/"
        },
        "id": "_egBC-CcKrGf",
        "outputId": "1459a1ea-7f83-45f7-869b-376fc648411d"
      },
      "execution_count": 22,
      "outputs": [
        {
          "output_type": "stream",
          "name": "stdout",
          "text": [
            "   carrier tailnum origin dest\n",
            "0        2  N508AS    PDX  ANC\n",
            "1        9  N195UW    SEA  CLT\n",
            "2        8  N37422    PDX  IAH\n",
            "3        9  N547UW    PDX  CLT\n",
            "4        2  N762AS    SEA  ANC\n"
          ]
        }
      ]
    },
    {
      "cell_type": "markdown",
      "source": [
        "- Comme vous pouvez le constater, vous avez encodé les catégories avec les numéros mappés dans votre DataFrame.\n",
        "\n",
        "- Vous pouvez également vérifier le dtype de la colonne nouvellement encodée, qui est maintenant convertie en nombres entiers."
      ],
      "metadata": {
        "id": "y2ZGyOFkKvq2"
      }
    },
    {
      "cell_type": "code",
      "source": [
        "print(cat_df_flights_replace['carrier'].dtypes)\n"
      ],
      "metadata": {
        "colab": {
          "base_uri": "https://localhost:8080/"
        },
        "id": "vCBP1njQKzev",
        "outputId": "3e9c49b5-0500-40b9-a680-c8c3fb80b40a"
      },
      "execution_count": 23,
      "outputs": [
        {
          "output_type": "stream",
          "name": "stdout",
          "text": [
            "int64\n"
          ]
        }
      ]
    },
    {
      "cell_type": "markdown",
      "source": [
        "- **Astuce :** en Python, c'est une bonne pratique de transtyper les fonctionnalités catégorielles en a category dtypecar elles rendent les opérations sur ces colonnes beaucoup plus rapides que le objectdtype. Vous pouvez effectuer le transtypage en utilisant la .astype()méthode sur vos colonnes comme indiqué ci-dessous :"
      ],
      "metadata": {
        "id": "6vIlhEnlK5DD"
      }
    },
    {
      "cell_type": "code",
      "source": [
        "cat_df_flights_lc = cat_df_flights.copy()\n",
        "cat_df_flights_lc['carrier'] = cat_df_flights_lc['carrier'].astype('category')\n",
        "cat_df_flights_lc['origin'] = cat_df_flights_lc['origin'].astype('category')                                                              \n",
        "\n",
        "print(cat_df_flights_lc.dtypes)\n"
      ],
      "metadata": {
        "colab": {
          "base_uri": "https://localhost:8080/"
        },
        "id": "rMJSQGjJK-h0",
        "outputId": "e547188d-91f6-43da-e5ab-8ea593cb3379"
      },
      "execution_count": 24,
      "outputs": [
        {
          "output_type": "stream",
          "name": "stdout",
          "text": [
            "carrier    category\n",
            "tailnum      object\n",
            "origin     category\n",
            "dest         object\n",
            "dtype: object\n"
          ]
        }
      ]
    },
    {
      "cell_type": "markdown",
      "source": [
        "- Vous pouvez valider le fonctionnement plus rapide du categorydtype en chronométrant le temps d'exécution de la même opération effectuée sur un DataFrame avec des colonnes comme categorydtype et objectdtype en utilisant la timebibliothèque.\n",
        "\n",
        "- Supposons que vous souhaitiez calculer le nombre de vols pour chacun à carrierpartir de chaque originlieu, vous pouvez utiliser les méthodes .groupby()et .count()sur votre DataFrame pour le faire."
      ],
      "metadata": {
        "id": "qwR5aTjiLCJV"
      }
    },
    {
      "cell_type": "code",
      "source": [
        "import time\n",
        "%timeit cat_df_flights.groupby(['origin','carrier']).count() #DataFrame with object dtype columns\n"
      ],
      "metadata": {
        "colab": {
          "base_uri": "https://localhost:8080/"
        },
        "id": "Cg8YAJMHLJhq",
        "outputId": "2e118fcb-09da-48b2-8fc5-3fd18506572e"
      },
      "execution_count": 25,
      "outputs": [
        {
          "output_type": "stream",
          "name": "stdout",
          "text": [
            "43.7 ms ± 704 µs per loop (mean ± std. dev. of 7 runs, 10 loops each)\n"
          ]
        }
      ]
    },
    {
      "cell_type": "code",
      "source": [
        "%timeit cat_df_flights_lc.groupby(['origin','carrier']).count() #DataFrame with category dtype columns\n"
      ],
      "metadata": {
        "colab": {
          "base_uri": "https://localhost:8080/"
        },
        "id": "y9l_8hQoLMo7",
        "outputId": "b96351c5-606f-4ce0-828d-69beb06a6adc"
      },
      "execution_count": 26,
      "outputs": [
        {
          "output_type": "stream",
          "name": "stdout",
          "text": [
            "27.8 ms ± 1.64 ms per loop (mean ± std. dev. of 7 runs, 10 loops each)\n"
          ]
        }
      ]
    },
    {
      "cell_type": "markdown",
      "source": [
        "- Notez que le DataFrame avec category dtypeest beaucoup plus rapide."
      ],
      "metadata": {
        "id": "1ZkikL2hLPkn"
      }
    },
    {
      "cell_type": "markdown",
      "source": [
        "# **Encodage des étiquettes**\n",
        "- Une autre approche consiste à encoder les valeurs catégorielles avec une technique appelée \"encodage d'étiquettes\", qui vous permet de convertir chaque valeur d'une colonne en un nombre.\n",
        "- Les étiquettes numériques sont toujours comprises entre 0 et n_categories-1.\n",
        "\n",
        "- Vous pouvez effectuer un encodage d'étiquette via des attributs .cat.codes sur la colonne de votre DataFrame."
      ],
      "metadata": {
        "id": "4ivsvDEOLSv9"
      }
    },
    {
      "cell_type": "code",
      "source": [
        "cat_df_flights_lc['carrier'] = #fill_here"
      ],
      "metadata": {
        "id": "0idYWVB9LY15"
      },
      "execution_count": 27,
      "outputs": []
    },
    {
      "cell_type": "code",
      "source": [
        "cat_df_flights_lc.head() #alphabetically labeled from 0 to 10\n"
      ],
      "metadata": {
        "colab": {
          "base_uri": "https://localhost:8080/",
          "height": 206
        },
        "id": "gA28Vmj3LcMZ",
        "outputId": "d0adb26d-c32e-4f6b-fb9a-a8842198a93d"
      },
      "execution_count": 28,
      "outputs": [
        {
          "output_type": "execute_result",
          "data": {
            "text/plain": [
              "   carrier tailnum origin dest\n",
              "0        1  N508AS    PDX  ANC\n",
              "1        8  N195UW    SEA  CLT\n",
              "2        7  N37422    PDX  IAH\n",
              "3        8  N547UW    PDX  CLT\n",
              "4        1  N762AS    SEA  ANC"
            ],
            "text/html": [
              "\n",
              "  <div id=\"df-395e18bc-9094-49d1-b22e-79336758ad07\">\n",
              "    <div class=\"colab-df-container\">\n",
              "      <div>\n",
              "<style scoped>\n",
              "    .dataframe tbody tr th:only-of-type {\n",
              "        vertical-align: middle;\n",
              "    }\n",
              "\n",
              "    .dataframe tbody tr th {\n",
              "        vertical-align: top;\n",
              "    }\n",
              "\n",
              "    .dataframe thead th {\n",
              "        text-align: right;\n",
              "    }\n",
              "</style>\n",
              "<table border=\"1\" class=\"dataframe\">\n",
              "  <thead>\n",
              "    <tr style=\"text-align: right;\">\n",
              "      <th></th>\n",
              "      <th>carrier</th>\n",
              "      <th>tailnum</th>\n",
              "      <th>origin</th>\n",
              "      <th>dest</th>\n",
              "    </tr>\n",
              "  </thead>\n",
              "  <tbody>\n",
              "    <tr>\n",
              "      <th>0</th>\n",
              "      <td>1</td>\n",
              "      <td>N508AS</td>\n",
              "      <td>PDX</td>\n",
              "      <td>ANC</td>\n",
              "    </tr>\n",
              "    <tr>\n",
              "      <th>1</th>\n",
              "      <td>8</td>\n",
              "      <td>N195UW</td>\n",
              "      <td>SEA</td>\n",
              "      <td>CLT</td>\n",
              "    </tr>\n",
              "    <tr>\n",
              "      <th>2</th>\n",
              "      <td>7</td>\n",
              "      <td>N37422</td>\n",
              "      <td>PDX</td>\n",
              "      <td>IAH</td>\n",
              "    </tr>\n",
              "    <tr>\n",
              "      <th>3</th>\n",
              "      <td>8</td>\n",
              "      <td>N547UW</td>\n",
              "      <td>PDX</td>\n",
              "      <td>CLT</td>\n",
              "    </tr>\n",
              "    <tr>\n",
              "      <th>4</th>\n",
              "      <td>1</td>\n",
              "      <td>N762AS</td>\n",
              "      <td>SEA</td>\n",
              "      <td>ANC</td>\n",
              "    </tr>\n",
              "  </tbody>\n",
              "</table>\n",
              "</div>\n",
              "      <button class=\"colab-df-convert\" onclick=\"convertToInteractive('df-395e18bc-9094-49d1-b22e-79336758ad07')\"\n",
              "              title=\"Convert this dataframe to an interactive table.\"\n",
              "              style=\"display:none;\">\n",
              "        \n",
              "  <svg xmlns=\"http://www.w3.org/2000/svg\" height=\"24px\"viewBox=\"0 0 24 24\"\n",
              "       width=\"24px\">\n",
              "    <path d=\"M0 0h24v24H0V0z\" fill=\"none\"/>\n",
              "    <path d=\"M18.56 5.44l.94 2.06.94-2.06 2.06-.94-2.06-.94-.94-2.06-.94 2.06-2.06.94zm-11 1L8.5 8.5l.94-2.06 2.06-.94-2.06-.94L8.5 2.5l-.94 2.06-2.06.94zm10 10l.94 2.06.94-2.06 2.06-.94-2.06-.94-.94-2.06-.94 2.06-2.06.94z\"/><path d=\"M17.41 7.96l-1.37-1.37c-.4-.4-.92-.59-1.43-.59-.52 0-1.04.2-1.43.59L10.3 9.45l-7.72 7.72c-.78.78-.78 2.05 0 2.83L4 21.41c.39.39.9.59 1.41.59.51 0 1.02-.2 1.41-.59l7.78-7.78 2.81-2.81c.8-.78.8-2.07 0-2.86zM5.41 20L4 18.59l7.72-7.72 1.47 1.35L5.41 20z\"/>\n",
              "  </svg>\n",
              "      </button>\n",
              "      \n",
              "  <style>\n",
              "    .colab-df-container {\n",
              "      display:flex;\n",
              "      flex-wrap:wrap;\n",
              "      gap: 12px;\n",
              "    }\n",
              "\n",
              "    .colab-df-convert {\n",
              "      background-color: #E8F0FE;\n",
              "      border: none;\n",
              "      border-radius: 50%;\n",
              "      cursor: pointer;\n",
              "      display: none;\n",
              "      fill: #1967D2;\n",
              "      height: 32px;\n",
              "      padding: 0 0 0 0;\n",
              "      width: 32px;\n",
              "    }\n",
              "\n",
              "    .colab-df-convert:hover {\n",
              "      background-color: #E2EBFA;\n",
              "      box-shadow: 0px 1px 2px rgba(60, 64, 67, 0.3), 0px 1px 3px 1px rgba(60, 64, 67, 0.15);\n",
              "      fill: #174EA6;\n",
              "    }\n",
              "\n",
              "    [theme=dark] .colab-df-convert {\n",
              "      background-color: #3B4455;\n",
              "      fill: #D2E3FC;\n",
              "    }\n",
              "\n",
              "    [theme=dark] .colab-df-convert:hover {\n",
              "      background-color: #434B5C;\n",
              "      box-shadow: 0px 1px 3px 1px rgba(0, 0, 0, 0.15);\n",
              "      filter: drop-shadow(0px 1px 2px rgba(0, 0, 0, 0.3));\n",
              "      fill: #FFFFFF;\n",
              "    }\n",
              "  </style>\n",
              "\n",
              "      <script>\n",
              "        const buttonEl =\n",
              "          document.querySelector('#df-395e18bc-9094-49d1-b22e-79336758ad07 button.colab-df-convert');\n",
              "        buttonEl.style.display =\n",
              "          google.colab.kernel.accessAllowed ? 'block' : 'none';\n",
              "\n",
              "        async function convertToInteractive(key) {\n",
              "          const element = document.querySelector('#df-395e18bc-9094-49d1-b22e-79336758ad07');\n",
              "          const dataTable =\n",
              "            await google.colab.kernel.invokeFunction('convertToInteractive',\n",
              "                                                     [key], {});\n",
              "          if (!dataTable) return;\n",
              "\n",
              "          const docLinkHtml = 'Like what you see? Visit the ' +\n",
              "            '<a target=\"_blank\" href=https://colab.research.google.com/notebooks/data_table.ipynb>data table notebook</a>'\n",
              "            + ' to learn more about interactive tables.';\n",
              "          element.innerHTML = '';\n",
              "          dataTable['output_type'] = 'display_data';\n",
              "          await google.colab.output.renderOutput(dataTable, element);\n",
              "          const docLink = document.createElement('div');\n",
              "          docLink.innerHTML = docLinkHtml;\n",
              "          element.appendChild(docLink);\n",
              "        }\n",
              "      </script>\n",
              "    </div>\n",
              "  </div>\n",
              "  "
            ]
          },
          "metadata": {},
          "execution_count": 28
        }
      ]
    },
    {
      "cell_type": "markdown",
      "source": [
        "- Parfois, vous voudrez peut-être simplement coder un groupe de catégories au sein d'une entité avec une valeur numérique et coder toutes les autres catégories avec une autre valeur numérique.\n",
        "\n",
        "- Vous pouvez le faire en utilisant numpyla where()fonction de comme indiqué ci-dessous.\n",
        "- Vous encoderez tous les USvols transporteurs en valeur 1et les autres transporteurs en valeur 0.\n",
        "- Cela créera une nouvelle colonne dans votre DataFrame avec les encodages. Plus tard, si vous souhaitez supprimer la colonne d'origine, vous pouvez le faire en utilisant la drop()fonction dans pandas."
      ],
      "metadata": {
        "id": "ClLZxY7vLgO-"
      }
    },
    {
      "cell_type": "code",
      "source": [
        "cat_df_flights_specific = cat_df_flights.copy()\n",
        "cat_df_flights_specific['US_code'] = np.where(cat_df_flights_specific['carrier'].str.contains('US'), 1, 0)\n",
        "\n",
        "cat_df_flights_specific.head()\n"
      ],
      "metadata": {
        "colab": {
          "base_uri": "https://localhost:8080/",
          "height": 206
        },
        "id": "ijoxG0PCLn7h",
        "outputId": "776fd25a-7de2-4da5-e4be-d04299955c7c"
      },
      "execution_count": 29,
      "outputs": [
        {
          "output_type": "execute_result",
          "data": {
            "text/plain": [
              "  carrier tailnum origin dest  US_code\n",
              "0      AS  N508AS    PDX  ANC        0\n",
              "1      US  N195UW    SEA  CLT        1\n",
              "2      UA  N37422    PDX  IAH        0\n",
              "3      US  N547UW    PDX  CLT        1\n",
              "4      AS  N762AS    SEA  ANC        0"
            ],
            "text/html": [
              "\n",
              "  <div id=\"df-01d00848-0fbd-40fe-93b3-9f7bc722514b\">\n",
              "    <div class=\"colab-df-container\">\n",
              "      <div>\n",
              "<style scoped>\n",
              "    .dataframe tbody tr th:only-of-type {\n",
              "        vertical-align: middle;\n",
              "    }\n",
              "\n",
              "    .dataframe tbody tr th {\n",
              "        vertical-align: top;\n",
              "    }\n",
              "\n",
              "    .dataframe thead th {\n",
              "        text-align: right;\n",
              "    }\n",
              "</style>\n",
              "<table border=\"1\" class=\"dataframe\">\n",
              "  <thead>\n",
              "    <tr style=\"text-align: right;\">\n",
              "      <th></th>\n",
              "      <th>carrier</th>\n",
              "      <th>tailnum</th>\n",
              "      <th>origin</th>\n",
              "      <th>dest</th>\n",
              "      <th>US_code</th>\n",
              "    </tr>\n",
              "  </thead>\n",
              "  <tbody>\n",
              "    <tr>\n",
              "      <th>0</th>\n",
              "      <td>AS</td>\n",
              "      <td>N508AS</td>\n",
              "      <td>PDX</td>\n",
              "      <td>ANC</td>\n",
              "      <td>0</td>\n",
              "    </tr>\n",
              "    <tr>\n",
              "      <th>1</th>\n",
              "      <td>US</td>\n",
              "      <td>N195UW</td>\n",
              "      <td>SEA</td>\n",
              "      <td>CLT</td>\n",
              "      <td>1</td>\n",
              "    </tr>\n",
              "    <tr>\n",
              "      <th>2</th>\n",
              "      <td>UA</td>\n",
              "      <td>N37422</td>\n",
              "      <td>PDX</td>\n",
              "      <td>IAH</td>\n",
              "      <td>0</td>\n",
              "    </tr>\n",
              "    <tr>\n",
              "      <th>3</th>\n",
              "      <td>US</td>\n",
              "      <td>N547UW</td>\n",
              "      <td>PDX</td>\n",
              "      <td>CLT</td>\n",
              "      <td>1</td>\n",
              "    </tr>\n",
              "    <tr>\n",
              "      <th>4</th>\n",
              "      <td>AS</td>\n",
              "      <td>N762AS</td>\n",
              "      <td>SEA</td>\n",
              "      <td>ANC</td>\n",
              "      <td>0</td>\n",
              "    </tr>\n",
              "  </tbody>\n",
              "</table>\n",
              "</div>\n",
              "      <button class=\"colab-df-convert\" onclick=\"convertToInteractive('df-01d00848-0fbd-40fe-93b3-9f7bc722514b')\"\n",
              "              title=\"Convert this dataframe to an interactive table.\"\n",
              "              style=\"display:none;\">\n",
              "        \n",
              "  <svg xmlns=\"http://www.w3.org/2000/svg\" height=\"24px\"viewBox=\"0 0 24 24\"\n",
              "       width=\"24px\">\n",
              "    <path d=\"M0 0h24v24H0V0z\" fill=\"none\"/>\n",
              "    <path d=\"M18.56 5.44l.94 2.06.94-2.06 2.06-.94-2.06-.94-.94-2.06-.94 2.06-2.06.94zm-11 1L8.5 8.5l.94-2.06 2.06-.94-2.06-.94L8.5 2.5l-.94 2.06-2.06.94zm10 10l.94 2.06.94-2.06 2.06-.94-2.06-.94-.94-2.06-.94 2.06-2.06.94z\"/><path d=\"M17.41 7.96l-1.37-1.37c-.4-.4-.92-.59-1.43-.59-.52 0-1.04.2-1.43.59L10.3 9.45l-7.72 7.72c-.78.78-.78 2.05 0 2.83L4 21.41c.39.39.9.59 1.41.59.51 0 1.02-.2 1.41-.59l7.78-7.78 2.81-2.81c.8-.78.8-2.07 0-2.86zM5.41 20L4 18.59l7.72-7.72 1.47 1.35L5.41 20z\"/>\n",
              "  </svg>\n",
              "      </button>\n",
              "      \n",
              "  <style>\n",
              "    .colab-df-container {\n",
              "      display:flex;\n",
              "      flex-wrap:wrap;\n",
              "      gap: 12px;\n",
              "    }\n",
              "\n",
              "    .colab-df-convert {\n",
              "      background-color: #E8F0FE;\n",
              "      border: none;\n",
              "      border-radius: 50%;\n",
              "      cursor: pointer;\n",
              "      display: none;\n",
              "      fill: #1967D2;\n",
              "      height: 32px;\n",
              "      padding: 0 0 0 0;\n",
              "      width: 32px;\n",
              "    }\n",
              "\n",
              "    .colab-df-convert:hover {\n",
              "      background-color: #E2EBFA;\n",
              "      box-shadow: 0px 1px 2px rgba(60, 64, 67, 0.3), 0px 1px 3px 1px rgba(60, 64, 67, 0.15);\n",
              "      fill: #174EA6;\n",
              "    }\n",
              "\n",
              "    [theme=dark] .colab-df-convert {\n",
              "      background-color: #3B4455;\n",
              "      fill: #D2E3FC;\n",
              "    }\n",
              "\n",
              "    [theme=dark] .colab-df-convert:hover {\n",
              "      background-color: #434B5C;\n",
              "      box-shadow: 0px 1px 3px 1px rgba(0, 0, 0, 0.15);\n",
              "      filter: drop-shadow(0px 1px 2px rgba(0, 0, 0, 0.3));\n",
              "      fill: #FFFFFF;\n",
              "    }\n",
              "  </style>\n",
              "\n",
              "      <script>\n",
              "        const buttonEl =\n",
              "          document.querySelector('#df-01d00848-0fbd-40fe-93b3-9f7bc722514b button.colab-df-convert');\n",
              "        buttonEl.style.display =\n",
              "          google.colab.kernel.accessAllowed ? 'block' : 'none';\n",
              "\n",
              "        async function convertToInteractive(key) {\n",
              "          const element = document.querySelector('#df-01d00848-0fbd-40fe-93b3-9f7bc722514b');\n",
              "          const dataTable =\n",
              "            await google.colab.kernel.invokeFunction('convertToInteractive',\n",
              "                                                     [key], {});\n",
              "          if (!dataTable) return;\n",
              "\n",
              "          const docLinkHtml = 'Like what you see? Visit the ' +\n",
              "            '<a target=\"_blank\" href=https://colab.research.google.com/notebooks/data_table.ipynb>data table notebook</a>'\n",
              "            + ' to learn more about interactive tables.';\n",
              "          element.innerHTML = '';\n",
              "          dataTable['output_type'] = 'display_data';\n",
              "          await google.colab.output.renderOutput(dataTable, element);\n",
              "          const docLink = document.createElement('div');\n",
              "          docLink.innerHTML = docLinkHtml;\n",
              "          element.appendChild(docLink);\n",
              "        }\n",
              "      </script>\n",
              "    </div>\n",
              "  </div>\n",
              "  "
            ]
          },
          "metadata": {},
          "execution_count": 29
        }
      ]
    },
    {
      "cell_type": "markdown",
      "source": [
        "- Vous pouvez obtenir le même encodage d'étiquette en utilisant scikit-learn's LabelEncoder:"
      ],
      "metadata": {
        "id": "avyX7sHwLrXA"
      }
    },
    {
      "cell_type": "code",
      "source": [
        "cat_df_flights_sklearn = cat_df_flights.copy()\n",
        "\n",
        "from sklearn.preprocessing import LabelEncoder\n",
        "\n",
        "lb_make = LabelEncoder()\n",
        "cat_df_flights_sklearn['carrier_code'] = lb_make.fit_transform(cat_df_flights['carrier'])\n",
        "\n",
        "cat_df_flights_sklearn.head() #Results in appending a new column to df\n"
      ],
      "metadata": {
        "colab": {
          "base_uri": "https://localhost:8080/",
          "height": 206
        },
        "id": "hKSvfkkBLscf",
        "outputId": "f8474716-c3d1-45a2-9127-0145f04a93bd"
      },
      "execution_count": 30,
      "outputs": [
        {
          "output_type": "execute_result",
          "data": {
            "text/plain": [
              "  carrier tailnum origin dest  carrier_code\n",
              "0      AS  N508AS    PDX  ANC             1\n",
              "1      US  N195UW    SEA  CLT             8\n",
              "2      UA  N37422    PDX  IAH             7\n",
              "3      US  N547UW    PDX  CLT             8\n",
              "4      AS  N762AS    SEA  ANC             1"
            ],
            "text/html": [
              "\n",
              "  <div id=\"df-e9eb89ea-f334-4b4b-8d05-fe3ad6e34d9c\">\n",
              "    <div class=\"colab-df-container\">\n",
              "      <div>\n",
              "<style scoped>\n",
              "    .dataframe tbody tr th:only-of-type {\n",
              "        vertical-align: middle;\n",
              "    }\n",
              "\n",
              "    .dataframe tbody tr th {\n",
              "        vertical-align: top;\n",
              "    }\n",
              "\n",
              "    .dataframe thead th {\n",
              "        text-align: right;\n",
              "    }\n",
              "</style>\n",
              "<table border=\"1\" class=\"dataframe\">\n",
              "  <thead>\n",
              "    <tr style=\"text-align: right;\">\n",
              "      <th></th>\n",
              "      <th>carrier</th>\n",
              "      <th>tailnum</th>\n",
              "      <th>origin</th>\n",
              "      <th>dest</th>\n",
              "      <th>carrier_code</th>\n",
              "    </tr>\n",
              "  </thead>\n",
              "  <tbody>\n",
              "    <tr>\n",
              "      <th>0</th>\n",
              "      <td>AS</td>\n",
              "      <td>N508AS</td>\n",
              "      <td>PDX</td>\n",
              "      <td>ANC</td>\n",
              "      <td>1</td>\n",
              "    </tr>\n",
              "    <tr>\n",
              "      <th>1</th>\n",
              "      <td>US</td>\n",
              "      <td>N195UW</td>\n",
              "      <td>SEA</td>\n",
              "      <td>CLT</td>\n",
              "      <td>8</td>\n",
              "    </tr>\n",
              "    <tr>\n",
              "      <th>2</th>\n",
              "      <td>UA</td>\n",
              "      <td>N37422</td>\n",
              "      <td>PDX</td>\n",
              "      <td>IAH</td>\n",
              "      <td>7</td>\n",
              "    </tr>\n",
              "    <tr>\n",
              "      <th>3</th>\n",
              "      <td>US</td>\n",
              "      <td>N547UW</td>\n",
              "      <td>PDX</td>\n",
              "      <td>CLT</td>\n",
              "      <td>8</td>\n",
              "    </tr>\n",
              "    <tr>\n",
              "      <th>4</th>\n",
              "      <td>AS</td>\n",
              "      <td>N762AS</td>\n",
              "      <td>SEA</td>\n",
              "      <td>ANC</td>\n",
              "      <td>1</td>\n",
              "    </tr>\n",
              "  </tbody>\n",
              "</table>\n",
              "</div>\n",
              "      <button class=\"colab-df-convert\" onclick=\"convertToInteractive('df-e9eb89ea-f334-4b4b-8d05-fe3ad6e34d9c')\"\n",
              "              title=\"Convert this dataframe to an interactive table.\"\n",
              "              style=\"display:none;\">\n",
              "        \n",
              "  <svg xmlns=\"http://www.w3.org/2000/svg\" height=\"24px\"viewBox=\"0 0 24 24\"\n",
              "       width=\"24px\">\n",
              "    <path d=\"M0 0h24v24H0V0z\" fill=\"none\"/>\n",
              "    <path d=\"M18.56 5.44l.94 2.06.94-2.06 2.06-.94-2.06-.94-.94-2.06-.94 2.06-2.06.94zm-11 1L8.5 8.5l.94-2.06 2.06-.94-2.06-.94L8.5 2.5l-.94 2.06-2.06.94zm10 10l.94 2.06.94-2.06 2.06-.94-2.06-.94-.94-2.06-.94 2.06-2.06.94z\"/><path d=\"M17.41 7.96l-1.37-1.37c-.4-.4-.92-.59-1.43-.59-.52 0-1.04.2-1.43.59L10.3 9.45l-7.72 7.72c-.78.78-.78 2.05 0 2.83L4 21.41c.39.39.9.59 1.41.59.51 0 1.02-.2 1.41-.59l7.78-7.78 2.81-2.81c.8-.78.8-2.07 0-2.86zM5.41 20L4 18.59l7.72-7.72 1.47 1.35L5.41 20z\"/>\n",
              "  </svg>\n",
              "      </button>\n",
              "      \n",
              "  <style>\n",
              "    .colab-df-container {\n",
              "      display:flex;\n",
              "      flex-wrap:wrap;\n",
              "      gap: 12px;\n",
              "    }\n",
              "\n",
              "    .colab-df-convert {\n",
              "      background-color: #E8F0FE;\n",
              "      border: none;\n",
              "      border-radius: 50%;\n",
              "      cursor: pointer;\n",
              "      display: none;\n",
              "      fill: #1967D2;\n",
              "      height: 32px;\n",
              "      padding: 0 0 0 0;\n",
              "      width: 32px;\n",
              "    }\n",
              "\n",
              "    .colab-df-convert:hover {\n",
              "      background-color: #E2EBFA;\n",
              "      box-shadow: 0px 1px 2px rgba(60, 64, 67, 0.3), 0px 1px 3px 1px rgba(60, 64, 67, 0.15);\n",
              "      fill: #174EA6;\n",
              "    }\n",
              "\n",
              "    [theme=dark] .colab-df-convert {\n",
              "      background-color: #3B4455;\n",
              "      fill: #D2E3FC;\n",
              "    }\n",
              "\n",
              "    [theme=dark] .colab-df-convert:hover {\n",
              "      background-color: #434B5C;\n",
              "      box-shadow: 0px 1px 3px 1px rgba(0, 0, 0, 0.15);\n",
              "      filter: drop-shadow(0px 1px 2px rgba(0, 0, 0, 0.3));\n",
              "      fill: #FFFFFF;\n",
              "    }\n",
              "  </style>\n",
              "\n",
              "      <script>\n",
              "        const buttonEl =\n",
              "          document.querySelector('#df-e9eb89ea-f334-4b4b-8d05-fe3ad6e34d9c button.colab-df-convert');\n",
              "        buttonEl.style.display =\n",
              "          google.colab.kernel.accessAllowed ? 'block' : 'none';\n",
              "\n",
              "        async function convertToInteractive(key) {\n",
              "          const element = document.querySelector('#df-e9eb89ea-f334-4b4b-8d05-fe3ad6e34d9c');\n",
              "          const dataTable =\n",
              "            await google.colab.kernel.invokeFunction('convertToInteractive',\n",
              "                                                     [key], {});\n",
              "          if (!dataTable) return;\n",
              "\n",
              "          const docLinkHtml = 'Like what you see? Visit the ' +\n",
              "            '<a target=\"_blank\" href=https://colab.research.google.com/notebooks/data_table.ipynb>data table notebook</a>'\n",
              "            + ' to learn more about interactive tables.';\n",
              "          element.innerHTML = '';\n",
              "          dataTable['output_type'] = 'display_data';\n",
              "          await google.colab.output.renderOutput(dataTable, element);\n",
              "          const docLink = document.createElement('div');\n",
              "          docLink.innerHTML = docLinkHtml;\n",
              "          element.appendChild(docLink);\n",
              "        }\n",
              "      </script>\n",
              "    </div>\n",
              "  </div>\n",
              "  "
            ]
          },
          "metadata": {},
          "execution_count": 30
        }
      ]
    },
    {
      "cell_type": "markdown",
      "source": [
        "- L'encodage des étiquettes est assez intuitif et simple et peut vous donner une bonne performance de votre algorithme d'apprentissage, mais il a comme inconvénient que les valeurs numériques peuvent être mal interprétées par l'algorithme.\n",
        "- Faut-il donner au porteur US(encodé en 8) 8 fois plus de poids qu'au porteur AS(encodé en 1) ?\n",
        "\n",
        "- Pour résoudre ce problème, il existe un autre moyen populaire d'encoder les catégories via quelque chose appelé encodage one hot."
      ],
      "metadata": {
        "id": "BhJgvR7tLyxF"
      }
    },
    {
      "cell_type": "markdown",
      "source": [
        "# **Encodage One-Hot**\n",
        "- La stratégie de base consiste à convertir chaque valeur de catégorie dans une nouvelle colonne et à attribuer une valeur 1ou 0(Vrai/Faux) à la colonne. \n",
        "- Cela a l'avantage de ne pas pondérer une valeur de manière incorrecte.\n",
        "\n",
        "- Il existe de nombreuses bibliothèques qui prennent en charge l'encodage à chaud, mais la plus simple utilise la méthode pandas' .get_dummies().\n",
        "\n",
        "- Cette fonction est nommée ainsi car elle crée des variables factices/indicatrices (1 ou 0).\n",
        "- Il y a principalement trois arguments importants ici, le premier est le DataFrame sur lequel vous voulez encoder, le deuxième étant l' columnsargument qui vous permet de spécifier les colonnes sur lesquelles vous voulez faire l'encodage, et le troisième, l' prefixargument qui vous permet de spécifier le préfixe pour le nouvelles colonnes qui seront créées après l'encodage."
      ],
      "metadata": {
        "id": "9kTyqWIeL4JJ"
      }
    },
    {
      "cell_type": "code",
      "source": [
        "cat_df_flights_onehot = cat_df_flights.copy()\n",
        "cat_df_flights_onehot = #get_dummies method with carrier column \n",
        "\n",
        "print(cat_df_flights_onehot.head())\n"
      ],
      "metadata": {
        "colab": {
          "base_uri": "https://localhost:8080/"
        },
        "id": "QrfdADPTMIEi",
        "outputId": "dde5a856-9f53-4a1a-c21a-ec8ac1a5e0e1"
      },
      "execution_count": 31,
      "outputs": [
        {
          "output_type": "stream",
          "name": "stdout",
          "text": [
            "  tailnum origin dest  carrier_AA  carrier_AS  carrier_B6  carrier_DL  \\\n",
            "0  N508AS    PDX  ANC           0           1           0           0   \n",
            "1  N195UW    SEA  CLT           0           0           0           0   \n",
            "2  N37422    PDX  IAH           0           0           0           0   \n",
            "3  N547UW    PDX  CLT           0           0           0           0   \n",
            "4  N762AS    SEA  ANC           0           1           0           0   \n",
            "\n",
            "   carrier_F9  carrier_HA  carrier_OO  carrier_UA  carrier_US  carrier_VX  \\\n",
            "0           0           0           0           0           0           0   \n",
            "1           0           0           0           0           1           0   \n",
            "2           0           0           0           1           0           0   \n",
            "3           0           0           0           0           1           0   \n",
            "4           0           0           0           0           0           0   \n",
            "\n",
            "   carrier_WN  \n",
            "0           0  \n",
            "1           0  \n",
            "2           0  \n",
            "3           0  \n",
            "4           0  \n"
          ]
        }
      ]
    },
    {
      "cell_type": "markdown",
      "source": [
        "- Comme vous pouvez le voir, la colonne carrier_ASobtient une valeur 1aux 0e et 4e points d'observation car ces points avaient la AScatégorie étiquetée dans le DataFrame d'origine. De même pour les autres colonnes également.\n",
        "\n",
        "- scikit-learn prend également en charge un encodage à chaud via LabelBinarizeret OneHotEncoderdans son preprocessingmodule (consultez les détails ici ).\n",
        "- Juste pour le plaisir de vous entraîner vous ferez le même encodage via LabelBinarizer:"
      ],
      "metadata": {
        "id": "aKh8RGUhMMMT"
      }
    },
    {
      "cell_type": "code",
      "source": [
        "cat_df_flights_onehot_sklearn = cat_df_flights.copy()\n",
        "\n",
        "from sklearn.preprocessing import LabelBinarizer\n",
        "\n",
        "lb = LabelBinarizer()\n",
        "lb_results = lb.#fill_here\n",
        "lb_results_df = pd.DataFrame(lb_results, columns=lb.classes_)\n",
        "\n",
        "print(lb_results_df.head())\n"
      ],
      "metadata": {
        "colab": {
          "base_uri": "https://localhost:8080/"
        },
        "id": "Vwo44_-VMTBu",
        "outputId": "f9b104ff-44e8-4205-be54-5c7717fd241b"
      },
      "execution_count": 32,
      "outputs": [
        {
          "output_type": "stream",
          "name": "stdout",
          "text": [
            "   AA  AS  B6  DL  F9  HA  OO  UA  US  VX  WN\n",
            "0   0   1   0   0   0   0   0   0   0   0   0\n",
            "1   0   0   0   0   0   0   0   0   1   0   0\n",
            "2   0   0   0   0   0   0   0   1   0   0   0\n",
            "3   0   0   0   0   0   0   0   0   1   0   0\n",
            "4   0   1   0   0   0   0   0   0   0   0   0\n"
          ]
        }
      ]
    },
    {
      "cell_type": "markdown",
      "source": [
        "- Notez que cela lb_results_dfa abouti à un nouveau DataFrame avec uniquement les encodages à chaud pour la fonctionnalité carrier. Cela doit être concaténé avec le DataFrame d'origine, ce qui peut être fait via la méthode pandas' . .concat()L' argument est défini sur la valeur axis 1 que vous souhaitez fusionner sur les colonnes."
      ],
      "metadata": {
        "id": "PM3HJ189MWVe"
      }
    },
    {
      "cell_type": "code",
      "source": [
        "result_df = pd.concat(#fill_here)\n",
        "\n",
        "print(result_df.head())\n"
      ],
      "metadata": {
        "colab": {
          "base_uri": "https://localhost:8080/"
        },
        "id": "MhehIuf1MnjQ",
        "outputId": "47a17a59-82f4-45f5-9960-eeb3e5bb5f4b"
      },
      "execution_count": 33,
      "outputs": [
        {
          "output_type": "stream",
          "name": "stdout",
          "text": [
            "  carrier tailnum origin dest  AA  AS  B6  DL  F9  HA  OO  UA  US  VX  WN\n",
            "0      AS  N508AS    PDX  ANC   0   1   0   0   0   0   0   0   0   0   0\n",
            "1      US  N195UW    SEA  CLT   0   0   0   0   0   0   0   0   1   0   0\n",
            "2      UA  N37422    PDX  IAH   0   0   0   0   0   0   0   1   0   0   0\n",
            "3      US  N547UW    PDX  CLT   0   0   0   0   0   0   0   0   1   0   0\n",
            "4      AS  N762AS    SEA  ANC   0   1   0   0   0   0   0   0   0   0   0\n"
          ]
        }
      ]
    },
    {
      "cell_type": "markdown",
      "source": [
        "# **Encodage binaire**\n",
        "- Cette technique n'est pas aussi intuitive que les précédentes. Dans cette technique, les catégories sont d'abord codées en ordinal, puis ces entiers sont convertis en code binaire, puis les chiffres de cette chaîne binaire sont divisés en colonnes séparées.\n",
        "- Cela encode les données dans moins de dimensions que one-hot.\n",
        "\n",
        "- Vous pouvez effectuer un encodage binaire de plusieurs manières, mais la plus simple consiste à utiliser la category_encodersbibliothèque.\n",
        "\n",
        "\n",
        "- Vous devez d'abord importer la category_encodersbibliothèque après l'avoir installée. \n",
        "- Appelez la BinaryEncoderfonction en spécifiant les colonnes que vous souhaitez encoder, puis appelez la .fit_transform()méthode dessus avec le DataFrame comme argument."
      ],
      "metadata": {
        "id": "ZgQXswXDMyU8"
      }
    },
    {
      "cell_type": "code",
      "source": [
        "!pip install category_encoders"
      ],
      "metadata": {
        "colab": {
          "base_uri": "https://localhost:8080/"
        },
        "id": "EMB_rYa6NCSB",
        "outputId": "bd07f18d-9b9c-40eb-f542-0d8c26d995fe"
      },
      "execution_count": 35,
      "outputs": [
        {
          "output_type": "stream",
          "name": "stdout",
          "text": [
            "Looking in indexes: https://pypi.org/simple, https://us-python.pkg.dev/colab-wheels/public/simple/\n",
            "Collecting category_encoders\n",
            "  Downloading category_encoders-2.6.0-py2.py3-none-any.whl (81 kB)\n",
            "\u001b[?25l     \u001b[90m━━━━━━━━━━━━━━━━━━━━━━━━━━━━━━━━━━━━━━━━\u001b[0m \u001b[32m0.0/81.2 KB\u001b[0m \u001b[31m?\u001b[0m eta \u001b[36m-:--:--\u001b[0m\r\u001b[2K     \u001b[90m━━━━━━━━━━━━━━━━━━━━━━━━━━━━━━━━━━━━━━━━\u001b[0m \u001b[32m81.2/81.2 KB\u001b[0m \u001b[31m3.7 MB/s\u001b[0m eta \u001b[36m0:00:00\u001b[0m\n",
            "\u001b[?25hRequirement already satisfied: scipy>=1.0.0 in /usr/local/lib/python3.8/dist-packages (from category_encoders) (1.7.3)\n",
            "Requirement already satisfied: statsmodels>=0.9.0 in /usr/local/lib/python3.8/dist-packages (from category_encoders) (0.12.2)\n",
            "Requirement already satisfied: numpy>=1.14.0 in /usr/local/lib/python3.8/dist-packages (from category_encoders) (1.21.6)\n",
            "Requirement already satisfied: patsy>=0.5.1 in /usr/local/lib/python3.8/dist-packages (from category_encoders) (0.5.3)\n",
            "Requirement already satisfied: pandas>=1.0.5 in /usr/local/lib/python3.8/dist-packages (from category_encoders) (1.3.5)\n",
            "Requirement already satisfied: scikit-learn>=0.20.0 in /usr/local/lib/python3.8/dist-packages (from category_encoders) (1.0.2)\n",
            "Requirement already satisfied: python-dateutil>=2.7.3 in /usr/local/lib/python3.8/dist-packages (from pandas>=1.0.5->category_encoders) (2.8.2)\n",
            "Requirement already satisfied: pytz>=2017.3 in /usr/local/lib/python3.8/dist-packages (from pandas>=1.0.5->category_encoders) (2022.7)\n",
            "Requirement already satisfied: six in /usr/local/lib/python3.8/dist-packages (from patsy>=0.5.1->category_encoders) (1.15.0)\n",
            "Requirement already satisfied: threadpoolctl>=2.0.0 in /usr/local/lib/python3.8/dist-packages (from scikit-learn>=0.20.0->category_encoders) (3.1.0)\n",
            "Requirement already satisfied: joblib>=0.11 in /usr/local/lib/python3.8/dist-packages (from scikit-learn>=0.20.0->category_encoders) (1.2.0)\n",
            "Installing collected packages: category_encoders\n",
            "Successfully installed category_encoders-2.6.0\n"
          ]
        }
      ]
    },
    {
      "cell_type": "code",
      "source": [
        "cat_df_flights_ce = cat_df_flights.copy()\n",
        "\n",
        "import category_encoders as ce\n",
        "\n",
        "encoder = ce.BinaryEncoder(cols=['carrier'])\n",
        "df_binary = encoder.fit_transform(cat_df_flights_ce)\n",
        "\n",
        "df_binary.head()"
      ],
      "metadata": {
        "colab": {
          "base_uri": "https://localhost:8080/",
          "height": 206
        },
        "id": "ROPLR4z-MvR9",
        "outputId": "3aeca56f-d79c-435e-9aba-0762df995328"
      },
      "execution_count": 36,
      "outputs": [
        {
          "output_type": "execute_result",
          "data": {
            "text/plain": [
              "   carrier_0  carrier_1  carrier_2  carrier_3 tailnum origin dest\n",
              "0          0          0          0          1  N508AS    PDX  ANC\n",
              "1          0          0          1          0  N195UW    SEA  CLT\n",
              "2          0          0          1          1  N37422    PDX  IAH\n",
              "3          0          0          1          0  N547UW    PDX  CLT\n",
              "4          0          0          0          1  N762AS    SEA  ANC"
            ],
            "text/html": [
              "\n",
              "  <div id=\"df-33568c01-40ce-410c-b31a-1ee8cd9a2c14\">\n",
              "    <div class=\"colab-df-container\">\n",
              "      <div>\n",
              "<style scoped>\n",
              "    .dataframe tbody tr th:only-of-type {\n",
              "        vertical-align: middle;\n",
              "    }\n",
              "\n",
              "    .dataframe tbody tr th {\n",
              "        vertical-align: top;\n",
              "    }\n",
              "\n",
              "    .dataframe thead th {\n",
              "        text-align: right;\n",
              "    }\n",
              "</style>\n",
              "<table border=\"1\" class=\"dataframe\">\n",
              "  <thead>\n",
              "    <tr style=\"text-align: right;\">\n",
              "      <th></th>\n",
              "      <th>carrier_0</th>\n",
              "      <th>carrier_1</th>\n",
              "      <th>carrier_2</th>\n",
              "      <th>carrier_3</th>\n",
              "      <th>tailnum</th>\n",
              "      <th>origin</th>\n",
              "      <th>dest</th>\n",
              "    </tr>\n",
              "  </thead>\n",
              "  <tbody>\n",
              "    <tr>\n",
              "      <th>0</th>\n",
              "      <td>0</td>\n",
              "      <td>0</td>\n",
              "      <td>0</td>\n",
              "      <td>1</td>\n",
              "      <td>N508AS</td>\n",
              "      <td>PDX</td>\n",
              "      <td>ANC</td>\n",
              "    </tr>\n",
              "    <tr>\n",
              "      <th>1</th>\n",
              "      <td>0</td>\n",
              "      <td>0</td>\n",
              "      <td>1</td>\n",
              "      <td>0</td>\n",
              "      <td>N195UW</td>\n",
              "      <td>SEA</td>\n",
              "      <td>CLT</td>\n",
              "    </tr>\n",
              "    <tr>\n",
              "      <th>2</th>\n",
              "      <td>0</td>\n",
              "      <td>0</td>\n",
              "      <td>1</td>\n",
              "      <td>1</td>\n",
              "      <td>N37422</td>\n",
              "      <td>PDX</td>\n",
              "      <td>IAH</td>\n",
              "    </tr>\n",
              "    <tr>\n",
              "      <th>3</th>\n",
              "      <td>0</td>\n",
              "      <td>0</td>\n",
              "      <td>1</td>\n",
              "      <td>0</td>\n",
              "      <td>N547UW</td>\n",
              "      <td>PDX</td>\n",
              "      <td>CLT</td>\n",
              "    </tr>\n",
              "    <tr>\n",
              "      <th>4</th>\n",
              "      <td>0</td>\n",
              "      <td>0</td>\n",
              "      <td>0</td>\n",
              "      <td>1</td>\n",
              "      <td>N762AS</td>\n",
              "      <td>SEA</td>\n",
              "      <td>ANC</td>\n",
              "    </tr>\n",
              "  </tbody>\n",
              "</table>\n",
              "</div>\n",
              "      <button class=\"colab-df-convert\" onclick=\"convertToInteractive('df-33568c01-40ce-410c-b31a-1ee8cd9a2c14')\"\n",
              "              title=\"Convert this dataframe to an interactive table.\"\n",
              "              style=\"display:none;\">\n",
              "        \n",
              "  <svg xmlns=\"http://www.w3.org/2000/svg\" height=\"24px\"viewBox=\"0 0 24 24\"\n",
              "       width=\"24px\">\n",
              "    <path d=\"M0 0h24v24H0V0z\" fill=\"none\"/>\n",
              "    <path d=\"M18.56 5.44l.94 2.06.94-2.06 2.06-.94-2.06-.94-.94-2.06-.94 2.06-2.06.94zm-11 1L8.5 8.5l.94-2.06 2.06-.94-2.06-.94L8.5 2.5l-.94 2.06-2.06.94zm10 10l.94 2.06.94-2.06 2.06-.94-2.06-.94-.94-2.06-.94 2.06-2.06.94z\"/><path d=\"M17.41 7.96l-1.37-1.37c-.4-.4-.92-.59-1.43-.59-.52 0-1.04.2-1.43.59L10.3 9.45l-7.72 7.72c-.78.78-.78 2.05 0 2.83L4 21.41c.39.39.9.59 1.41.59.51 0 1.02-.2 1.41-.59l7.78-7.78 2.81-2.81c.8-.78.8-2.07 0-2.86zM5.41 20L4 18.59l7.72-7.72 1.47 1.35L5.41 20z\"/>\n",
              "  </svg>\n",
              "      </button>\n",
              "      \n",
              "  <style>\n",
              "    .colab-df-container {\n",
              "      display:flex;\n",
              "      flex-wrap:wrap;\n",
              "      gap: 12px;\n",
              "    }\n",
              "\n",
              "    .colab-df-convert {\n",
              "      background-color: #E8F0FE;\n",
              "      border: none;\n",
              "      border-radius: 50%;\n",
              "      cursor: pointer;\n",
              "      display: none;\n",
              "      fill: #1967D2;\n",
              "      height: 32px;\n",
              "      padding: 0 0 0 0;\n",
              "      width: 32px;\n",
              "    }\n",
              "\n",
              "    .colab-df-convert:hover {\n",
              "      background-color: #E2EBFA;\n",
              "      box-shadow: 0px 1px 2px rgba(60, 64, 67, 0.3), 0px 1px 3px 1px rgba(60, 64, 67, 0.15);\n",
              "      fill: #174EA6;\n",
              "    }\n",
              "\n",
              "    [theme=dark] .colab-df-convert {\n",
              "      background-color: #3B4455;\n",
              "      fill: #D2E3FC;\n",
              "    }\n",
              "\n",
              "    [theme=dark] .colab-df-convert:hover {\n",
              "      background-color: #434B5C;\n",
              "      box-shadow: 0px 1px 3px 1px rgba(0, 0, 0, 0.15);\n",
              "      filter: drop-shadow(0px 1px 2px rgba(0, 0, 0, 0.3));\n",
              "      fill: #FFFFFF;\n",
              "    }\n",
              "  </style>\n",
              "\n",
              "      <script>\n",
              "        const buttonEl =\n",
              "          document.querySelector('#df-33568c01-40ce-410c-b31a-1ee8cd9a2c14 button.colab-df-convert');\n",
              "        buttonEl.style.display =\n",
              "          google.colab.kernel.accessAllowed ? 'block' : 'none';\n",
              "\n",
              "        async function convertToInteractive(key) {\n",
              "          const element = document.querySelector('#df-33568c01-40ce-410c-b31a-1ee8cd9a2c14');\n",
              "          const dataTable =\n",
              "            await google.colab.kernel.invokeFunction('convertToInteractive',\n",
              "                                                     [key], {});\n",
              "          if (!dataTable) return;\n",
              "\n",
              "          const docLinkHtml = 'Like what you see? Visit the ' +\n",
              "            '<a target=\"_blank\" href=https://colab.research.google.com/notebooks/data_table.ipynb>data table notebook</a>'\n",
              "            + ' to learn more about interactive tables.';\n",
              "          element.innerHTML = '';\n",
              "          dataTable['output_type'] = 'display_data';\n",
              "          await google.colab.output.renderOutput(dataTable, element);\n",
              "          const docLink = document.createElement('div');\n",
              "          docLink.innerHTML = docLinkHtml;\n",
              "          element.appendChild(docLink);\n",
              "        }\n",
              "      </script>\n",
              "    </div>\n",
              "  </div>\n",
              "  "
            ]
          },
          "metadata": {},
          "execution_count": 36
        }
      ]
    },
    {
      "cell_type": "markdown",
      "source": [
        "- **Notez** que quatre nouvelles colonnes sont créées à la place de la carriercolonne avec un codage binaire pour chaque catégorie de la fonctionnalité.\n",
        "\n",
        "- **Notez** qu'il category_encoderss'agit d'une bibliothèque très utile pour encoder les colonnes catégorielles.\n",
        "- Non seulement il prend en charge l'encodage one-hot, binaire et d'étiquette, mais également d'autres méthodes d'encodage avancées telles que le contraste Helmert, le contraste polynomial, la différence arrière, etc."
      ],
      "metadata": {
        "id": "v4uNAa6GNLIB"
      }
    }
  ]
}