{
  "nbformat": 4,
  "nbformat_minor": 0,
  "metadata": {
    "colab": {
      "provenance": [],
      "authorship_tag": "ABX9TyOL5qlR+IuegRbABSGyrQDU",
      "include_colab_link": true
    },
    "kernelspec": {
      "name": "python3",
      "display_name": "Python 3"
    },
    "language_info": {
      "name": "python"
    }
  },
  "cells": [
    {
      "cell_type": "markdown",
      "metadata": {
        "id": "view-in-github",
        "colab_type": "text"
      },
      "source": [
        "<a href=\"https://colab.research.google.com/github/zinebzannouti/AWS-Breast-Cancer-Prediction/blob/main/2-Handling%20Missing%20Data/Exercices%20et%20Solutions/Exercices_et_solutions_Handling_missing_data.ipynb\" target=\"_parent\"><img src=\"https://colab.research.google.com/assets/colab-badge.svg\" alt=\"Open In Colab\"/></a>"
      ]
    },
    {
      "cell_type": "markdown",
      "source": [
        "**Exercice 1 :**    \n",
        "- Écrivez un programme Pandas pour détecter les valeurs manquantes d'un DataFrame donné.\n",
        "- Afficher Vrai ou Faux."
      ],
      "metadata": {
        "id": "R0MImSXuBzbN"
      }
    },
    {
      "cell_type": "code",
      "execution_count": 1,
      "metadata": {
        "id": "SH4V3g08BjVe"
      },
      "outputs": [],
      "source": [
        "import pandas as pd\n",
        "import numpy as np\n",
        "pd.set_option('display.max_rows', None)\n",
        "df = pd.DataFrame({\n",
        "'ord_no':[70001,np.nan,70002,70004,np.nan,70005,np.nan,70010,70003,70012,np.nan,70013],\n",
        "'purch_amt':[150.5,270.65,65.26,110.5,948.5,2400.6,5760,1983.43,2480.4,250.45, 75.29,3045.6],\n",
        "'ord_date': ['2012-10-05','2012-09-10',np.nan,'2012-08-17','2012-09-10','2012-07-27','2012-09-10','2012-10-10','2012-10-10','2012-06-27','2012-08-17','2012-04-25'],\n",
        "'customer_id':[3002,3001,3001,3003,3002,3001,3001,3004,3003,3002,3001,3001],\n",
        "'salesman_id':[5002,5003,5001,np.nan,5002,5001,5001,np.nan,5003,5002,5003,np.nan]})"
      ]
    },
    {
      "cell_type": "code",
      "source": [
        "#solution"
      ],
      "metadata": {
        "id": "NRFCXILaCB5O"
      },
      "execution_count": null,
      "outputs": []
    },
    {
      "cell_type": "markdown",
      "source": [
        "Double-click __here__ for the solution.\n",
        "\n",
        "<!-- Your answer is below:\n",
        "\n",
        "print(\"Original Orders DataFrame:\")\n",
        "print(df)\n",
        "print(\"\\nMissing values of the said dataframe:\")\n",
        "print(df.isna())\n",
        "\n",
        "\n",
        "-->"
      ],
      "metadata": {
        "id": "3u6umQsQCEur"
      }
    },
    {
      "cell_type": "markdown",
      "source": [
        "**Exercice 2 :**\n",
        "\n",
        "- Écrivez un programme Pandas pour identifier la ou les colonnes de DataFrame  qui ont au moins une valeur manquante."
      ],
      "metadata": {
        "id": "nvjdBMt3CXhk"
      }
    },
    {
      "cell_type": "code",
      "source": [
        "#solution "
      ],
      "metadata": {
        "id": "fj_hvQyLCsNy"
      },
      "execution_count": null,
      "outputs": []
    },
    {
      "cell_type": "markdown",
      "source": [
        "Double-click __here__ for the solution.\n",
        "\n",
        "<!-- Your answer is below:\n",
        "\n",
        "print(\"Original Orders DataFrame:\")\n",
        "print(df)\n",
        "print(\"\\nIdentify the columns which have at least one missing value:\")\n",
        "print(df.isna().any())\n",
        "\n",
        "\n",
        "-->"
      ],
      "metadata": {
        "id": "bQ6euUKgC0UX"
      }
    },
    {
      "cell_type": "markdown",
      "source": [
        "**Exercice 3 :**   \n",
        "- Écrivez un programme Pandas pour compter le nombre de valeurs manquantes dans chaque colonne d'un DataFrame."
      ],
      "metadata": {
        "id": "RWUVuT3sDTA3"
      }
    },
    {
      "cell_type": "code",
      "source": [
        "#solution"
      ],
      "metadata": {
        "id": "W0u-gGstDnKE"
      },
      "execution_count": null,
      "outputs": []
    },
    {
      "cell_type": "markdown",
      "source": [
        "Double-click __here__ for the solution.\n",
        "\n",
        "<!-- Your answer is below:\n",
        "print(\"Original Orders DataFrame:\")\n",
        "print(df)\n",
        "print(\"\\nNumber of missing values of the said dataframe:\")\n",
        "print(df.isna().sum())\n",
        "\n",
        "-->"
      ],
      "metadata": {
        "id": "TTteQJRfDp-4"
      }
    },
    {
      "cell_type": "markdown",
      "source": [
        "**Exercice 4 :**     \n",
        "- Écrivez un programme Pandas pour rechercher et remplacer les valeurs manquantes dans un DataFrame  qui ne contiennent aucune information précieuse."
      ],
      "metadata": {
        "id": "9sIRBbNODtML"
      }
    },
    {
      "cell_type": "code",
      "source": [
        "#solution"
      ],
      "metadata": {
        "id": "nV-J8gyNED_C"
      },
      "execution_count": null,
      "outputs": []
    },
    {
      "cell_type": "markdown",
      "source": [
        "Double-click __here__ for the solution.\n",
        "\n",
        "<!-- Your answer is below:\n",
        "print(\"Original Orders DataFrame:\")\n",
        "print(df)\n",
        "print(\"\\nReplace the missing values with NaN:\")\n",
        "result = df.replace({\"?\": np.nan, \"--\": np.nan})\n",
        "print(result)\n",
        "-->"
      ],
      "metadata": {
        "id": "1E-o8IGuEG7b"
      }
    },
    {
      "cell_type": "markdown",
      "source": [
        "**Exercice 5:**   \n",
        "- Écrivez un programme Pandas pour supprimer les lignes où au moins un élément manque dans un DataFrame."
      ],
      "metadata": {
        "id": "sLU1-DpREYAm"
      }
    },
    {
      "cell_type": "code",
      "source": [
        "#solution"
      ],
      "metadata": {
        "id": "nrTZgJQVEeW5"
      },
      "execution_count": null,
      "outputs": []
    },
    {
      "cell_type": "markdown",
      "source": [
        "Double-click __here__ for the solution.\n",
        "\n",
        "<!-- Your answer is below:\n",
        "print(\"Original Orders DataFrame:\")\n",
        "print(df)\n",
        "print(\"\\nDrop the rows where at least one element is missing:\")\n",
        "result = df.dropna()\n",
        "print(result)\n",
        "-->"
      ],
      "metadata": {
        "id": "CqItRUzoEnPe"
      }
    },
    {
      "cell_type": "markdown",
      "source": [
        "**Exercice 6:**\n",
        "\n",
        "- Écrivez un programme Pandas pour supprimer les colonnes où au moins un élément manque dans un DataFrame."
      ],
      "metadata": {
        "id": "bhbe-NNVE7h7"
      }
    },
    {
      "cell_type": "code",
      "source": [
        "#solution"
      ],
      "metadata": {
        "id": "MlnHPPB4EvIc"
      },
      "execution_count": null,
      "outputs": []
    },
    {
      "cell_type": "markdown",
      "source": [
        "Double-click __here__ for the solution.\n",
        "\n",
        "<!-- Your answer is below:\n",
        "print(\"Original Orders DataFrame:\")\n",
        "print(df)\n",
        "print(\"\\nDrop the columns where at least one element is missing:\")\n",
        "result = df.dropna(axis='columns')\n",
        "print(result)\n",
        "-->"
      ],
      "metadata": {
        "id": "Mi_qvgsEFHgi"
      }
    },
    {
      "cell_type": "markdown",
      "source": [
        "**Exercice 7:**\n",
        "- Écrivez un programme Pandas pour supprimer les lignes où tous les éléments manquent dans un DataFrame ."
      ],
      "metadata": {
        "id": "e05WjcWZFMNH"
      }
    },
    {
      "cell_type": "code",
      "source": [
        "#solution"
      ],
      "metadata": {
        "id": "30pENZQ8FVXz"
      },
      "execution_count": null,
      "outputs": []
    },
    {
      "cell_type": "markdown",
      "source": [
        "Double-click __here__ for the solution.\n",
        "\n",
        "<!-- Your answer is below:\n",
        "print(\"Original Orders DataFrame:\")\n",
        "print(df)\n",
        "print(\"\\nDrop the rows where all elements are missing:\")\n",
        "result = df.dropna(how='all')\n",
        "print(result)\n",
        "-->"
      ],
      "metadata": {
        "id": "3zNlRB6bFYfq"
      }
    },
    {
      "cell_type": "markdown",
      "source": [
        "**Exercice 8:**\n",
        "- Écrivez un programme Pandas pour conserver les lignes avec au moins 2 valeurs NaN dans un DataFrame."
      ],
      "metadata": {
        "id": "81ogv0mOFhKa"
      }
    },
    {
      "cell_type": "code",
      "source": [
        "#solution"
      ],
      "metadata": {
        "id": "JDJE5SuCFobL"
      },
      "execution_count": null,
      "outputs": []
    },
    {
      "cell_type": "markdown",
      "source": [
        "Double-click __here__ for the solution.\n",
        "\n",
        "<!-- Your answer is below:\n",
        "print(\"Original Orders DataFrame:\")\n",
        "print(df)\n",
        "print(\"\\nKeep the rows with at least 2 NaN values of the said DataFrame:\")\n",
        "result = df.dropna(thresh=2)\n",
        "print(result)\n",
        "-->"
      ],
      "metadata": {
        "id": "-2sU6U17FsmQ"
      }
    },
    {
      "cell_type": "markdown",
      "source": [
        "**Exercice 9:**\n",
        "- Écrivez un programme Pandas pour supprimer ces lignes d'un DataFrame dans lequel des colonnes spécifiques ont des valeurs manquantes."
      ],
      "metadata": {
        "id": "kGFFb4PCF6La"
      }
    },
    {
      "cell_type": "code",
      "source": [
        "#solution"
      ],
      "metadata": {
        "id": "UWr_qlw5GC_V"
      },
      "execution_count": null,
      "outputs": []
    },
    {
      "cell_type": "markdown",
      "source": [
        "Double-click __here__ for the solution.\n",
        "\n",
        "<!-- Your answer is below:\n",
        "print(\"Original Orders DataFrame:\")\n",
        "print(df)\n",
        "print(\"\\nDrop those rows in which specific columns have missing values:\")\n",
        "result = df.dropna(subset=['ord_no','ord_date' , 'salesman_id'])\n",
        "print(result)\n",
        "-->"
      ],
      "metadata": {
        "id": "E7bv49QeGHhy"
      }
    },
    {
      "cell_type": "markdown",
      "source": [
        "**Exercice 10:**\n",
        "- Écrivez un programme Pandas pour conserver les entrées valides d'un DataFrame."
      ],
      "metadata": {
        "id": "hHJZ9XLlHlkd"
      }
    },
    {
      "cell_type": "code",
      "source": [
        "#solution"
      ],
      "metadata": {
        "id": "dLE2BFhiIj6e"
      },
      "execution_count": null,
      "outputs": []
    },
    {
      "cell_type": "markdown",
      "source": [
        "Double-click __here__ for the solution.\n",
        "\n",
        "<!-- Your answer is below:\n",
        "print(\"Original Orders DataFrame:\")\n",
        "print(df)\n",
        "print(\"\\nKeep the said DataFrame with valid entries:\")\n",
        "result = df.dropna(inplace=False)\n",
        "print(result)\n",
        "-->"
      ],
      "metadata": {
        "id": "FNYf4xUAHt8c"
      }
    },
    {
      "cell_type": "markdown",
      "source": [
        "**Exercice 11 :**\n",
        "- Écrivez un programme Pandas pour calculer le nombre total de valeurs manquantes dans un DataFrame."
      ],
      "metadata": {
        "id": "4eY7PZQEH4Jx"
      }
    },
    {
      "cell_type": "code",
      "source": [
        "#solution"
      ],
      "metadata": {
        "id": "WatIJeXeIljq"
      },
      "execution_count": null,
      "outputs": []
    },
    {
      "cell_type": "markdown",
      "source": [
        "Double-click __here__ for the solution.\n",
        "\n",
        "<!-- Your answer is below:\n",
        "print(\"Original Orders DataFrame:\")\n",
        "print(df)\n",
        "print(\"\\nTotal number of missing values of the said DataFrame:\")\n",
        "result = df.isna().sum().sum()\n",
        "print(result)\n",
        "-->"
      ],
      "metadata": {
        "id": "KvTAuyD3JIBY"
      }
    },
    {
      "cell_type": "markdown",
      "source": [
        "**Exercice 12:**\n",
        "- Écrivez un programme Pandas pour remplacer NaNs par une seule valeur constante dans des colonnes spécifiées dans un DataFrame."
      ],
      "metadata": {
        "id": "uKISlwI_JN87"
      }
    },
    {
      "cell_type": "code",
      "source": [
        "#solution"
      ],
      "metadata": {
        "id": "w_UAKrYvJV98"
      },
      "execution_count": null,
      "outputs": []
    },
    {
      "cell_type": "markdown",
      "source": [
        "Double-click __here__ for the solution.\n",
        "\n",
        "<!-- Your answer is below:\n",
        "print(\"Original Orders DataFrame:\")\n",
        "print(df)\n",
        "print(\"\\nReplace NaNs with a single constant value:\")\n",
        "result = df['ord_no'].fillna(0, inplace=False)\n",
        "print(result))\n",
        "-->"
      ],
      "metadata": {
        "id": "IjBvk_i2JZTV"
      }
    },
    {
      "cell_type": "markdown",
      "source": [
        "**Exercice 13:**\n",
        "- Écrivez un programme Pandas pour remplacer NaNs par la valeur de la ligne précédente ou de la ligne suivante dans un DataFrame."
      ],
      "metadata": {
        "id": "J1iOSzUSJan4"
      }
    },
    {
      "cell_type": "code",
      "source": [
        "#solution"
      ],
      "metadata": {
        "id": "w9r3XddMJ-OK"
      },
      "execution_count": null,
      "outputs": []
    },
    {
      "cell_type": "markdown",
      "source": [
        "Double-click __here__ for the solution.\n",
        "\n",
        "<!-- Your answer is below:\n",
        "print(\"Original Orders DataFrame:\")\n",
        "print(df)\n",
        "print(\"\\nReplacing NaNs with the value from the previous row (purch_amt):\")\n",
        "df['purch_amt'].fillna(method='pad', inplace=True)\n",
        "print(df)\n",
        "print(\"\\nReplacing NaNs with the value from the next row (sale_amt):\")\n",
        "df['sale_amt'].fillna(method='bfill', inplace=True)\n",
        "print(df)\n",
        "-->"
      ],
      "metadata": {
        "id": "qnCmj4KtJ__2"
      }
    },
    {
      "cell_type": "markdown",
      "source": [
        "**Exercice 14:**\n",
        "- Écrivez un programme Pandas pour remplacer les NaN par la médiane ou la moyenne des colonnes spécifiées dans un DataFrame."
      ],
      "metadata": {
        "id": "8k7GnXSiKGmD"
      }
    },
    {
      "cell_type": "code",
      "source": [
        "pd.set_option('display.max_rows', None)\n",
        "df = pd.DataFrame({\n",
        "'ord_no':[70001,np.nan,70002,70004,np.nan,70005,np.nan,70010,70003,70012,np.nan,70013],\n",
        "'purch_amt':[150.5,np.nan,65.26,110.5,948.5,np.nan,5760,1983.43,np.nan,250.45, 75.29,3045.6],\n",
        "'sale_amt':[10.5,20.65,np.nan,11.5,98.5,np.nan,57,19.43,np.nan,25.45, 75.29,35.6],\n",
        "'ord_date': ['2012-10-05','2012-09-10',np.nan,'2012-08-17','2012-09-10','2012-07-27','2012-09-10','2012-10-10','2012-10-10','2012-06-27','2012-08-17','2012-04-25'],\n",
        "'customer_id':[3002,3001,3001,3003,3002,3001,3001,3004,3003,3002,3001,3001],\n",
        "'salesman_id':[5002,5003,5001,np.nan,5002,5001,5001,np.nan,5003,5002,5003,np.nan]})"
      ],
      "metadata": {
        "id": "JHck0PKmKdAR"
      },
      "execution_count": 7,
      "outputs": []
    },
    {
      "cell_type": "code",
      "source": [
        "#solution"
      ],
      "metadata": {
        "id": "I7REsFsAKQ1o"
      },
      "execution_count": null,
      "outputs": []
    },
    {
      "cell_type": "markdown",
      "source": [
        "Double-click __here__ for the solution.\n",
        "\n",
        "<!-- Your answer is below:\n",
        "print(\"Original Orders DataFrame:\")\n",
        "print(df)\n",
        "print(\"Using median in purch_amt to replace NaN:\")\n",
        "df['purch_amt'].fillna(df['purch_amt'].median(), inplace=True)\n",
        "print(df)\n",
        "print(\"Using mean to replace NaN:\")\n",
        "df['sale_amt'].fillna(int(df['sale_amt'].mean()), inplace=True)\n",
        "print(df)\n",
        "-->"
      ],
      "metadata": {
        "id": "1QJr09ioKWKm"
      }
    }
  ]
}